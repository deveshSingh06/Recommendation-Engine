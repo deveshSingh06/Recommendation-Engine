{
 "cells": [
  {
   "cell_type": "markdown",
   "metadata": {
    "colab_type": "text",
    "id": "NMjDcXRwMMrr"
   },
   "source": [
    "<a href=\"https://colab.research.google.com/drive/1m4txj2euGGplKLIpnA0IzGsD9FJ9uSCF?usp=sharing\"><img src=\"https://colab.research.google.com/assets/colab-badge.svg\" alt=\"Open In Colab\"/></a>"
   ]
  },
  {
   "cell_type": "markdown",
   "metadata": {
    "colab_type": "text",
    "id": "ee9h50NlLv_n"
   },
   "source": [
    "# Table Of Contents\n",
    "\n",
    "- <a href='#0'>0. Install Turicreate </a>  \n",
    "\n",
    "- <a href='#1'>1. Load the dataset</a>\n",
    "\n",
    "- <a href='#2'>2. Building the Recommendation Engine</a>\n",
    "\n",
    "  - <a href='#21'>2.1. Recommendations based on Scaled/Normalized PurchaseCount</a>\n",
    "\n",
    "    - <a href='#211'>2.1.1. Sample Recommendations</a>\n",
    "    - <a href='#212'> 2.1.2. Model Evaluation</a>\n",
    "\n",
    "  - <a href='#22'>2.2. Recommendations based on Non-Scaled PurchaseCount</a>\n",
    "\n",
    "    - <a href='#221'>2.2.1. Sample Recommendations</a>\n",
    "    - <a href='#222'>2.2.2. Model Evaluation</a>\n",
    "\n",
    "\n",
    "- <a href='#3'>3. Conclusion</a>\n",
    "\n",
    "---"
   ]
  },
  {
   "cell_type": "markdown",
   "metadata": {
    "colab_type": "text",
    "id": "UVBfGjdMMnYM"
   },
   "source": [
    "# <a id='0'> 0. Install Turicreate </a>"
   ]
  },
  {
   "cell_type": "code",
   "execution_count": null,
   "metadata": {
    "colab": {
     "base_uri": "https://localhost:8080/",
     "height": 1000
    },
    "colab_type": "code",
    "id": "2E1NmDOmxRZC",
    "outputId": "a51083e3-4c3c-4b74-d3cb-5f1e8745e17b"
   },
   "outputs": [
    {
     "name": "stdout",
     "output_type": "stream",
     "text": [
      "Collecting turicreate\n",
      "\u001b[?25l  Downloading https://files.pythonhosted.org/packages/f0/d9/305d14b84c03045c73c016f21bc8d043dfa2d777b4cc3dddab1d879f6c49/turicreate-6.4-cp36-cp36m-manylinux1_x86_64.whl (92.0MB)\n",
      "\u001b[K     |████████████████████████████████| 92.0MB 55kB/s \n",
      "\u001b[?25hRequirement already satisfied: pillow>=5.2.0 in /usr/local/lib/python3.6/dist-packages (from turicreate) (7.0.0)\n",
      "Requirement already satisfied: numpy in /usr/local/lib/python3.6/dist-packages (from turicreate) (1.18.5)\n",
      "Requirement already satisfied: numba<0.51.0 in /usr/local/lib/python3.6/dist-packages (from turicreate) (0.48.0)\n",
      "Collecting resampy==0.2.1\n",
      "\u001b[?25l  Downloading https://files.pythonhosted.org/packages/14/b6/66a06d85474190b50aee1a6c09cdc95bb405ac47338b27e9b21409da1760/resampy-0.2.1.tar.gz (322kB)\n",
      "\u001b[K     |████████████████████████████████| 327kB 50.0MB/s \n",
      "\u001b[?25hRequirement already satisfied: pandas>=0.23.2 in /usr/local/lib/python3.6/dist-packages (from turicreate) (1.0.5)\n",
      "Requirement already satisfied: six>=1.10.0 in /usr/local/lib/python3.6/dist-packages (from turicreate) (1.15.0)\n",
      "Collecting coremltools==3.3\n",
      "\u001b[?25l  Downloading https://files.pythonhosted.org/packages/77/19/611916d1ef326d38857d93af5ba184f6ad7491642e0fa4f9082e7d82f034/coremltools-3.3-cp36-none-manylinux1_x86_64.whl (3.4MB)\n",
      "\u001b[K     |████████████████████████████████| 3.4MB 46.3MB/s \n",
      "\u001b[?25hRequirement already satisfied: scipy>=1.1.0 in /usr/local/lib/python3.6/dist-packages (from turicreate) (1.4.1)\n",
      "Collecting tensorflow<2.1.0,>=2.0.0\n",
      "\u001b[?25l  Downloading https://files.pythonhosted.org/packages/87/5e/254f5baeb331a7c9065b796d786cd07c5db79f2d76a496b74891a6521e25/tensorflow-2.0.3-cp36-cp36m-manylinux2010_x86_64.whl (86.4MB)\n",
      "\u001b[K     |████████████████████████████████| 86.4MB 61kB/s \n",
      "\u001b[?25hRequirement already satisfied: decorator>=4.0.9 in /usr/local/lib/python3.6/dist-packages (from turicreate) (4.4.2)\n",
      "Requirement already satisfied: prettytable==0.7.2 in /usr/local/lib/python3.6/dist-packages (from turicreate) (0.7.2)\n",
      "Requirement already satisfied: requests>=2.9.1 in /usr/local/lib/python3.6/dist-packages (from turicreate) (2.23.0)\n",
      "Requirement already satisfied: setuptools in /usr/local/lib/python3.6/dist-packages (from numba<0.51.0->turicreate) (50.3.0)\n",
      "Requirement already satisfied: llvmlite<0.32.0,>=0.31.0dev0 in /usr/local/lib/python3.6/dist-packages (from numba<0.51.0->turicreate) (0.31.0)\n",
      "Requirement already satisfied: python-dateutil>=2.6.1 in /usr/local/lib/python3.6/dist-packages (from pandas>=0.23.2->turicreate) (2.8.1)\n",
      "Requirement already satisfied: pytz>=2017.2 in /usr/local/lib/python3.6/dist-packages (from pandas>=0.23.2->turicreate) (2018.9)\n",
      "Requirement already satisfied: protobuf>=3.1.0 in /usr/local/lib/python3.6/dist-packages (from coremltools==3.3->turicreate) (3.12.4)\n",
      "Requirement already satisfied: grpcio>=1.8.6 in /usr/local/lib/python3.6/dist-packages (from tensorflow<2.1.0,>=2.0.0->turicreate) (1.32.0)\n",
      "Requirement already satisfied: wrapt>=1.11.1 in /usr/local/lib/python3.6/dist-packages (from tensorflow<2.1.0,>=2.0.0->turicreate) (1.12.1)\n",
      "Requirement already satisfied: absl-py>=0.7.0 in /usr/local/lib/python3.6/dist-packages (from tensorflow<2.1.0,>=2.0.0->turicreate) (0.10.0)\n",
      "Requirement already satisfied: keras-preprocessing>=1.0.5 in /usr/local/lib/python3.6/dist-packages (from tensorflow<2.1.0,>=2.0.0->turicreate) (1.1.2)\n",
      "Requirement already satisfied: termcolor>=1.1.0 in /usr/local/lib/python3.6/dist-packages (from tensorflow<2.1.0,>=2.0.0->turicreate) (1.1.0)\n",
      "Requirement already satisfied: google-pasta>=0.1.6 in /usr/local/lib/python3.6/dist-packages (from tensorflow<2.1.0,>=2.0.0->turicreate) (0.2.0)\n",
      "Collecting tensorflow-estimator<2.1.0,>=2.0.0\n",
      "\u001b[?25l  Downloading https://files.pythonhosted.org/packages/fc/08/8b927337b7019c374719145d1dceba21a8bb909b93b1ad6f8fb7d22c1ca1/tensorflow_estimator-2.0.1-py2.py3-none-any.whl (449kB)\n",
      "\u001b[K     |████████████████████████████████| 450kB 48.4MB/s \n",
      "\u001b[?25hCollecting tensorboard<2.1.0,>=2.0.0\n",
      "\u001b[?25l  Downloading https://files.pythonhosted.org/packages/76/54/99b9d5d52d5cb732f099baaaf7740403e83fe6b0cedde940fabd2b13d75a/tensorboard-2.0.2-py3-none-any.whl (3.8MB)\n",
      "\u001b[K     |████████████████████████████████| 3.8MB 46.2MB/s \n",
      "\u001b[?25hCollecting keras-applications>=1.0.8\n",
      "\u001b[?25l  Downloading https://files.pythonhosted.org/packages/71/e3/19762fdfc62877ae9102edf6342d71b28fbfd9dea3d2f96a882ce099b03f/Keras_Applications-1.0.8-py3-none-any.whl (50kB)\n",
      "\u001b[K     |████████████████████████████████| 51kB 7.3MB/s \n",
      "\u001b[?25hRequirement already satisfied: wheel>=0.26; python_version >= \"3\" in /usr/local/lib/python3.6/dist-packages (from tensorflow<2.1.0,>=2.0.0->turicreate) (0.35.1)\n",
      "Collecting gast==0.2.2\n",
      "  Downloading https://files.pythonhosted.org/packages/4e/35/11749bf99b2d4e3cceb4d55ca22590b0d7c2c62b9de38ac4a4a7f4687421/gast-0.2.2.tar.gz\n",
      "Requirement already satisfied: opt-einsum>=2.3.2 in /usr/local/lib/python3.6/dist-packages (from tensorflow<2.1.0,>=2.0.0->turicreate) (3.3.0)\n",
      "Requirement already satisfied: astor>=0.6.0 in /usr/local/lib/python3.6/dist-packages (from tensorflow<2.1.0,>=2.0.0->turicreate) (0.8.1)\n",
      "Requirement already satisfied: urllib3!=1.25.0,!=1.25.1,<1.26,>=1.21.1 in /usr/local/lib/python3.6/dist-packages (from requests>=2.9.1->turicreate) (1.24.3)\n",
      "Requirement already satisfied: certifi>=2017.4.17 in /usr/local/lib/python3.6/dist-packages (from requests>=2.9.1->turicreate) (2020.6.20)\n",
      "Requirement already satisfied: chardet<4,>=3.0.2 in /usr/local/lib/python3.6/dist-packages (from requests>=2.9.1->turicreate) (3.0.4)\n",
      "Requirement already satisfied: idna<3,>=2.5 in /usr/local/lib/python3.6/dist-packages (from requests>=2.9.1->turicreate) (2.10)\n",
      "Requirement already satisfied: google-auth-oauthlib<0.5,>=0.4.1 in /usr/local/lib/python3.6/dist-packages (from tensorboard<2.1.0,>=2.0.0->tensorflow<2.1.0,>=2.0.0->turicreate) (0.4.1)\n",
      "Requirement already satisfied: werkzeug>=0.11.15 in /usr/local/lib/python3.6/dist-packages (from tensorboard<2.1.0,>=2.0.0->tensorflow<2.1.0,>=2.0.0->turicreate) (1.0.1)\n",
      "Requirement already satisfied: markdown>=2.6.8 in /usr/local/lib/python3.6/dist-packages (from tensorboard<2.1.0,>=2.0.0->tensorflow<2.1.0,>=2.0.0->turicreate) (3.2.2)\n",
      "Requirement already satisfied: google-auth<2,>=1.6.3 in /usr/local/lib/python3.6/dist-packages (from tensorboard<2.1.0,>=2.0.0->tensorflow<2.1.0,>=2.0.0->turicreate) (1.17.2)\n",
      "Requirement already satisfied: h5py in /usr/local/lib/python3.6/dist-packages (from keras-applications>=1.0.8->tensorflow<2.1.0,>=2.0.0->turicreate) (2.10.0)\n",
      "Requirement already satisfied: requests-oauthlib>=0.7.0 in /usr/local/lib/python3.6/dist-packages (from google-auth-oauthlib<0.5,>=0.4.1->tensorboard<2.1.0,>=2.0.0->tensorflow<2.1.0,>=2.0.0->turicreate) (1.3.0)\n",
      "Requirement already satisfied: importlib-metadata; python_version < \"3.8\" in /usr/local/lib/python3.6/dist-packages (from markdown>=2.6.8->tensorboard<2.1.0,>=2.0.0->tensorflow<2.1.0,>=2.0.0->turicreate) (1.7.0)\n",
      "Requirement already satisfied: cachetools<5.0,>=2.0.0 in /usr/local/lib/python3.6/dist-packages (from google-auth<2,>=1.6.3->tensorboard<2.1.0,>=2.0.0->tensorflow<2.1.0,>=2.0.0->turicreate) (4.1.1)\n",
      "Requirement already satisfied: pyasn1-modules>=0.2.1 in /usr/local/lib/python3.6/dist-packages (from google-auth<2,>=1.6.3->tensorboard<2.1.0,>=2.0.0->tensorflow<2.1.0,>=2.0.0->turicreate) (0.2.8)\n",
      "Requirement already satisfied: rsa<5,>=3.1.4; python_version >= \"3\" in /usr/local/lib/python3.6/dist-packages (from google-auth<2,>=1.6.3->tensorboard<2.1.0,>=2.0.0->tensorflow<2.1.0,>=2.0.0->turicreate) (4.6)\n",
      "Requirement already satisfied: oauthlib>=3.0.0 in /usr/local/lib/python3.6/dist-packages (from requests-oauthlib>=0.7.0->google-auth-oauthlib<0.5,>=0.4.1->tensorboard<2.1.0,>=2.0.0->tensorflow<2.1.0,>=2.0.0->turicreate) (3.1.0)\n",
      "Requirement already satisfied: zipp>=0.5 in /usr/local/lib/python3.6/dist-packages (from importlib-metadata; python_version < \"3.8\"->markdown>=2.6.8->tensorboard<2.1.0,>=2.0.0->tensorflow<2.1.0,>=2.0.0->turicreate) (3.1.0)\n",
      "Requirement already satisfied: pyasn1<0.5.0,>=0.4.6 in /usr/local/lib/python3.6/dist-packages (from pyasn1-modules>=0.2.1->google-auth<2,>=1.6.3->tensorboard<2.1.0,>=2.0.0->tensorflow<2.1.0,>=2.0.0->turicreate) (0.4.8)\n",
      "Building wheels for collected packages: resampy, gast\n",
      "  Building wheel for resampy (setup.py) ... \u001b[?25l\u001b[?25hdone\n",
      "  Created wheel for resampy: filename=resampy-0.2.1-cp36-none-any.whl size=320848 sha256=d98a21d4062198ee886688b53ca304d3d30665edcd1a443abefd2910d2915247\n",
      "  Stored in directory: /root/.cache/pip/wheels/ff/4f/ed/2e6c676c23efe5394bb40ade50662e90eb46e29b48324c5f9b\n",
      "  Building wheel for gast (setup.py) ... \u001b[?25l\u001b[?25hdone\n",
      "  Created wheel for gast: filename=gast-0.2.2-cp36-none-any.whl size=7542 sha256=56ba3e50be9ce92408ae0af2fe3e85d30f1125a002c85cde7f799791d8308148\n",
      "  Stored in directory: /root/.cache/pip/wheels/5c/2e/7e/a1d4d4fcebe6c381f378ce7743a3ced3699feb89bcfbdadadd\n",
      "Successfully built resampy gast\n",
      "\u001b[31mERROR: tensorflow-probability 0.11.0 has requirement gast>=0.3.2, but you'll have gast 0.2.2 which is incompatible.\u001b[0m\n",
      "Installing collected packages: resampy, coremltools, tensorflow-estimator, tensorboard, keras-applications, gast, tensorflow, turicreate\n",
      "  Found existing installation: resampy 0.2.2\n",
      "    Uninstalling resampy-0.2.2:\n",
      "      Successfully uninstalled resampy-0.2.2\n",
      "  Found existing installation: tensorflow-estimator 2.3.0\n",
      "    Uninstalling tensorflow-estimator-2.3.0:\n",
      "      Successfully uninstalled tensorflow-estimator-2.3.0\n",
      "  Found existing installation: tensorboard 2.3.0\n",
      "    Uninstalling tensorboard-2.3.0:\n",
      "      Successfully uninstalled tensorboard-2.3.0\n",
      "  Found existing installation: gast 0.3.3\n",
      "    Uninstalling gast-0.3.3:\n",
      "      Successfully uninstalled gast-0.3.3\n",
      "  Found existing installation: tensorflow 2.3.0\n",
      "    Uninstalling tensorflow-2.3.0:\n",
      "      Successfully uninstalled tensorflow-2.3.0\n",
      "Successfully installed coremltools-3.3 gast-0.2.2 keras-applications-1.0.8 resampy-0.2.1 tensorboard-2.0.2 tensorflow-2.0.3 tensorflow-estimator-2.0.1 turicreate-6.4\n"
     ]
    }
   ],
   "source": [
    "\n",
    "!pip install turicreate"
   ]
  },
  {
   "cell_type": "markdown",
   "metadata": {
    "colab_type": "text",
    "id": "CYTr5A3mytQM"
   },
   "source": [
    "# <a id='1'> 1. Load the Dataset </a>"
   ]
  },
  {
   "cell_type": "code",
   "execution_count": null,
   "metadata": {
    "colab": {},
    "colab_type": "code",
    "id": "wHkwG9HK2BZv"
   },
   "outputs": [],
   "source": [
    "import numpy as np\n",
    "import pandas as pd\n",
    "import turicreate as tc"
   ]
  },
  {
   "cell_type": "code",
   "execution_count": null,
   "metadata": {
    "colab": {},
    "colab_type": "code",
    "id": "mHA8rQgR2HY7"
   },
   "outputs": [],
   "source": [
    "df = pd.read_csv(\"RecommenderEngine.csv\", )"
   ]
  },
  {
   "cell_type": "code",
   "execution_count": null,
   "metadata": {
    "colab": {
     "base_uri": "https://localhost:8080/",
     "height": 194
    },
    "colab_type": "code",
    "id": "uk_v0PoP6rp7",
    "outputId": "5698e06f-0509-46a7-bbdb-73164b11b7c6"
   },
   "outputs": [
    {
     "data": {
      "text/html": [
       "<div>\n",
       "<style scoped>\n",
       "    .dataframe tbody tr th:only-of-type {\n",
       "        vertical-align: middle;\n",
       "    }\n",
       "\n",
       "    .dataframe tbody tr th {\n",
       "        vertical-align: top;\n",
       "    }\n",
       "\n",
       "    .dataframe thead th {\n",
       "        text-align: right;\n",
       "    }\n",
       "</style>\n",
       "<table border=\"1\" class=\"dataframe\">\n",
       "  <thead>\n",
       "    <tr style=\"text-align: right;\">\n",
       "      <th></th>\n",
       "      <th>CustomerKey</th>\n",
       "      <th>EnglishProductSubcategoryName</th>\n",
       "      <th>FirstName</th>\n",
       "      <th>LastName</th>\n",
       "      <th>MiddleName</th>\n",
       "      <th>Number of Records</th>\n",
       "      <th>ProductSubcategoryAlternateKey</th>\n",
       "    </tr>\n",
       "  </thead>\n",
       "  <tbody>\n",
       "    <tr>\n",
       "      <th>0</th>\n",
       "      <td>21768</td>\n",
       "      <td>Road Bikes</td>\n",
       "      <td>Cole</td>\n",
       "      <td>Watson</td>\n",
       "      <td>A</td>\n",
       "      <td>1</td>\n",
       "      <td>2</td>\n",
       "    </tr>\n",
       "    <tr>\n",
       "      <th>1</th>\n",
       "      <td>28389</td>\n",
       "      <td>Mountain Bikes</td>\n",
       "      <td>Rachael</td>\n",
       "      <td>Martinez</td>\n",
       "      <td>M</td>\n",
       "      <td>1</td>\n",
       "      <td>1</td>\n",
       "    </tr>\n",
       "    <tr>\n",
       "      <th>2</th>\n",
       "      <td>25863</td>\n",
       "      <td>Mountain Bikes</td>\n",
       "      <td>Sydney</td>\n",
       "      <td>Wright</td>\n",
       "      <td>S</td>\n",
       "      <td>1</td>\n",
       "      <td>1</td>\n",
       "    </tr>\n",
       "    <tr>\n",
       "      <th>3</th>\n",
       "      <td>14501</td>\n",
       "      <td>Road Bikes</td>\n",
       "      <td>Ruben</td>\n",
       "      <td>Prasad</td>\n",
       "      <td>NaN</td>\n",
       "      <td>1</td>\n",
       "      <td>2</td>\n",
       "    </tr>\n",
       "    <tr>\n",
       "      <th>4</th>\n",
       "      <td>11003</td>\n",
       "      <td>Mountain Bikes</td>\n",
       "      <td>Christy</td>\n",
       "      <td>Zhu</td>\n",
       "      <td>NaN</td>\n",
       "      <td>1</td>\n",
       "      <td>1</td>\n",
       "    </tr>\n",
       "  </tbody>\n",
       "</table>\n",
       "</div>"
      ],
      "text/plain": [
       "   CustomerKey  ... ProductSubcategoryAlternateKey\n",
       "0        21768  ...                              2\n",
       "1        28389  ...                              1\n",
       "2        25863  ...                              1\n",
       "3        14501  ...                              2\n",
       "4        11003  ...                              1\n",
       "\n",
       "[5 rows x 7 columns]"
      ]
     },
     "execution_count": 43,
     "metadata": {
      "tags": []
     },
     "output_type": "execute_result"
    }
   ],
   "source": [
    "df.head()"
   ]
  },
  {
   "cell_type": "code",
   "execution_count": null,
   "metadata": {
    "colab": {},
    "colab_type": "code",
    "id": "GWZ3V7KnxhQf"
   },
   "outputs": [],
   "source": [
    "df_custName = df['FirstName'] +' '+ df['MiddleName'] +' '+ df['LastName']"
   ]
  },
  {
   "cell_type": "markdown",
   "metadata": {
    "colab_type": "text",
    "id": "uHRhYT2GnnFa"
   },
   "source": [
    "---\n",
    "# <a id='2'> 2. Building the Recommendation Engine </a>"
   ]
  },
  {
   "cell_type": "code",
   "execution_count": null,
   "metadata": {
    "colab": {
     "base_uri": "https://localhost:8080/",
     "height": 194
    },
    "colab_type": "code",
    "id": "xh5BM9Aaeyyw",
    "outputId": "4deb3dd4-a968-4040-d249-b4354fa62e9c"
   },
   "outputs": [
    {
     "data": {
      "text/html": [
       "<div>\n",
       "<style scoped>\n",
       "    .dataframe tbody tr th:only-of-type {\n",
       "        vertical-align: middle;\n",
       "    }\n",
       "\n",
       "    .dataframe tbody tr th {\n",
       "        vertical-align: top;\n",
       "    }\n",
       "\n",
       "    .dataframe thead th {\n",
       "        text-align: right;\n",
       "    }\n",
       "</style>\n",
       "<table border=\"1\" class=\"dataframe\">\n",
       "  <thead>\n",
       "    <tr style=\"text-align: right;\">\n",
       "      <th></th>\n",
       "      <th>CustomerKey</th>\n",
       "      <th>ProductSubcategoryAlternateKey</th>\n",
       "      <th>EnglishProductSubcategoryName</th>\n",
       "      <th>CustomerName</th>\n",
       "    </tr>\n",
       "  </thead>\n",
       "  <tbody>\n",
       "    <tr>\n",
       "      <th>0</th>\n",
       "      <td>21768</td>\n",
       "      <td>2</td>\n",
       "      <td>Road Bikes</td>\n",
       "      <td>Cole A Watson</td>\n",
       "    </tr>\n",
       "    <tr>\n",
       "      <th>1</th>\n",
       "      <td>28389</td>\n",
       "      <td>1</td>\n",
       "      <td>Mountain Bikes</td>\n",
       "      <td>Rachael M Martinez</td>\n",
       "    </tr>\n",
       "    <tr>\n",
       "      <th>2</th>\n",
       "      <td>25863</td>\n",
       "      <td>1</td>\n",
       "      <td>Mountain Bikes</td>\n",
       "      <td>Sydney S Wright</td>\n",
       "    </tr>\n",
       "    <tr>\n",
       "      <th>3</th>\n",
       "      <td>14501</td>\n",
       "      <td>2</td>\n",
       "      <td>Road Bikes</td>\n",
       "      <td>NaN</td>\n",
       "    </tr>\n",
       "    <tr>\n",
       "      <th>4</th>\n",
       "      <td>11003</td>\n",
       "      <td>1</td>\n",
       "      <td>Mountain Bikes</td>\n",
       "      <td>NaN</td>\n",
       "    </tr>\n",
       "  </tbody>\n",
       "</table>\n",
       "</div>"
      ],
      "text/plain": [
       "   CustomerKey  ...        CustomerName\n",
       "0        21768  ...       Cole A Watson\n",
       "1        28389  ...  Rachael M Martinez\n",
       "2        25863  ...     Sydney S Wright\n",
       "3        14501  ...                 NaN\n",
       "4        11003  ...                 NaN\n",
       "\n",
       "[5 rows x 4 columns]"
      ]
     },
     "execution_count": 53,
     "metadata": {
      "tags": []
     },
     "output_type": "execute_result"
    }
   ],
   "source": [
    "# Creating the dataset\n",
    "\n",
    "df2 = pd.DataFrame(data = df[['CustomerKey', 'ProductSubcategoryAlternateKey', 'EnglishProductSubcategoryName']])\n",
    "df2['CustomerName'] = df_custName.copy()\n",
    "df2.head()"
   ]
  },
  {
   "cell_type": "code",
   "execution_count": null,
   "metadata": {
    "colab": {},
    "colab_type": "code",
    "id": "-usASOWroGFg"
   },
   "outputs": [],
   "source": [
    "df2.to_csv('CustomerProduct_Dataset.csv', index=False)"
   ]
  },
  {
   "cell_type": "code",
   "execution_count": null,
   "metadata": {
    "colab": {
     "base_uri": "https://localhost:8080/",
     "height": 194
    },
    "colab_type": "code",
    "id": "I9PwZB6EpUNq",
    "outputId": "5d00c336-eded-44d0-f910-1b0d83ae9f8b"
   },
   "outputs": [
    {
     "data": {
      "text/html": [
       "<div>\n",
       "<style scoped>\n",
       "    .dataframe tbody tr th:only-of-type {\n",
       "        vertical-align: middle;\n",
       "    }\n",
       "\n",
       "    .dataframe tbody tr th {\n",
       "        vertical-align: top;\n",
       "    }\n",
       "\n",
       "    .dataframe thead th {\n",
       "        text-align: right;\n",
       "    }\n",
       "</style>\n",
       "<table border=\"1\" class=\"dataframe\">\n",
       "  <thead>\n",
       "    <tr style=\"text-align: right;\">\n",
       "      <th></th>\n",
       "      <th>CustomerKey</th>\n",
       "      <th>ProductSubcategoryAlternateKey</th>\n",
       "      <th>EnglishProductSubcategoryName</th>\n",
       "      <th>CustomerName</th>\n",
       "    </tr>\n",
       "  </thead>\n",
       "  <tbody>\n",
       "    <tr>\n",
       "      <th>0</th>\n",
       "      <td>21768</td>\n",
       "      <td>2</td>\n",
       "      <td>Road Bikes</td>\n",
       "      <td>Cole A Watson</td>\n",
       "    </tr>\n",
       "    <tr>\n",
       "      <th>1</th>\n",
       "      <td>28389</td>\n",
       "      <td>1</td>\n",
       "      <td>Mountain Bikes</td>\n",
       "      <td>Rachael M Martinez</td>\n",
       "    </tr>\n",
       "    <tr>\n",
       "      <th>2</th>\n",
       "      <td>25863</td>\n",
       "      <td>1</td>\n",
       "      <td>Mountain Bikes</td>\n",
       "      <td>Sydney S Wright</td>\n",
       "    </tr>\n",
       "    <tr>\n",
       "      <th>3</th>\n",
       "      <td>14501</td>\n",
       "      <td>2</td>\n",
       "      <td>Road Bikes</td>\n",
       "      <td>NaN</td>\n",
       "    </tr>\n",
       "    <tr>\n",
       "      <th>4</th>\n",
       "      <td>11003</td>\n",
       "      <td>1</td>\n",
       "      <td>Mountain Bikes</td>\n",
       "      <td>NaN</td>\n",
       "    </tr>\n",
       "  </tbody>\n",
       "</table>\n",
       "</div>"
      ],
      "text/plain": [
       "   CustomerKey  ...        CustomerName\n",
       "0        21768  ...       Cole A Watson\n",
       "1        28389  ...  Rachael M Martinez\n",
       "2        25863  ...     Sydney S Wright\n",
       "3        14501  ...                 NaN\n",
       "4        11003  ...                 NaN\n",
       "\n",
       "[5 rows x 4 columns]"
      ]
     },
     "execution_count": 55,
     "metadata": {
      "tags": []
     },
     "output_type": "execute_result"
    }
   ],
   "source": [
    "df = pd.read_csv(\"CustomerProduct_Dataset.csv\", )\n",
    "df.head()"
   ]
  },
  {
   "cell_type": "code",
   "execution_count": null,
   "metadata": {
    "colab": {
     "base_uri": "https://localhost:8080/",
     "height": 337
    },
    "colab_type": "code",
    "id": "TDvBoEActOtx",
    "outputId": "8ff827c4-c167-4b6d-88f2-6832d4c64d05"
   },
   "outputs": [
    {
     "data": {
      "text/plain": [
       "37    17332\n",
       "2      8068\n",
       "28     7981\n",
       "31     6440\n",
       "1      4970\n",
       "21     3332\n",
       "19     2190\n",
       "3      2167\n",
       "30     2121\n",
       "20     1430\n",
       "22     1019\n",
       "29      908\n",
       "32      733\n",
       "23      568\n",
       "25      562\n",
       "26      328\n",
       "27      249\n",
       "Name: ProductSubcategoryAlternateKey, dtype: int64"
      ]
     },
     "execution_count": 56,
     "metadata": {
      "tags": []
     },
     "output_type": "execute_result"
    }
   ],
   "source": [
    "df.ProductSubcategoryAlternateKey.value_counts()"
   ]
  },
  {
   "cell_type": "code",
   "execution_count": null,
   "metadata": {
    "colab": {},
    "colab_type": "code",
    "id": "ceKFLfEn5vCX"
   },
   "outputs": [],
   "source": [
    "subCatCount = df.ProductSubcategoryAlternateKey.value_counts()\n",
    "# subCat = subCatCount.index\n",
    "# PurchaseCount = subCatCount.values"
   ]
  },
  {
   "cell_type": "code",
   "execution_count": null,
   "metadata": {
    "colab": {},
    "colab_type": "code",
    "id": "iQqcOIgkGY4m"
   },
   "outputs": [],
   "source": [
    "df_subCat = pd.DataFrame({'ProductSubcategoryAlternateKey':subCatCount.index, 'PurchaseCount':subCatCount.values,})"
   ]
  },
  {
   "cell_type": "code",
   "execution_count": null,
   "metadata": {
    "colab": {
     "base_uri": "https://localhost:8080/",
     "height": 35
    },
    "colab_type": "code",
    "id": "nPH9RBvz7p-j",
    "outputId": "bd7f7e88-16a4-412b-a8a4-9b15318fe282"
   },
   "outputs": [
    {
     "data": {
      "text/plain": [
       "(44734, 4)"
      ]
     },
     "execution_count": 63,
     "metadata": {
      "tags": []
     },
     "output_type": "execute_result"
    }
   ],
   "source": [
    "df_final = df.drop_duplicates(keep='first', inplace=False)\n",
    "df_final.shape"
   ]
  },
  {
   "cell_type": "code",
   "execution_count": null,
   "metadata": {
    "colab": {
     "base_uri": "https://localhost:8080/",
     "height": 194
    },
    "colab_type": "code",
    "id": "UAKliWUx_eMB",
    "outputId": "be1335af-d8a2-49ac-a40a-c584b5e6c649"
   },
   "outputs": [
    {
     "data": {
      "text/html": [
       "<div>\n",
       "<style scoped>\n",
       "    .dataframe tbody tr th:only-of-type {\n",
       "        vertical-align: middle;\n",
       "    }\n",
       "\n",
       "    .dataframe tbody tr th {\n",
       "        vertical-align: top;\n",
       "    }\n",
       "\n",
       "    .dataframe thead th {\n",
       "        text-align: right;\n",
       "    }\n",
       "</style>\n",
       "<table border=\"1\" class=\"dataframe\">\n",
       "  <thead>\n",
       "    <tr style=\"text-align: right;\">\n",
       "      <th></th>\n",
       "      <th>CustomerKey</th>\n",
       "      <th>ProductSubcategoryAlternateKey</th>\n",
       "      <th>EnglishProductSubcategoryName</th>\n",
       "      <th>CustomerName</th>\n",
       "    </tr>\n",
       "  </thead>\n",
       "  <tbody>\n",
       "    <tr>\n",
       "      <th>0</th>\n",
       "      <td>21768</td>\n",
       "      <td>2</td>\n",
       "      <td>Road Bikes</td>\n",
       "      <td>Cole A Watson</td>\n",
       "    </tr>\n",
       "    <tr>\n",
       "      <th>1</th>\n",
       "      <td>28389</td>\n",
       "      <td>1</td>\n",
       "      <td>Mountain Bikes</td>\n",
       "      <td>Rachael M Martinez</td>\n",
       "    </tr>\n",
       "    <tr>\n",
       "      <th>2</th>\n",
       "      <td>25863</td>\n",
       "      <td>1</td>\n",
       "      <td>Mountain Bikes</td>\n",
       "      <td>Sydney S Wright</td>\n",
       "    </tr>\n",
       "    <tr>\n",
       "      <th>3</th>\n",
       "      <td>14501</td>\n",
       "      <td>2</td>\n",
       "      <td>Road Bikes</td>\n",
       "      <td>NaN</td>\n",
       "    </tr>\n",
       "    <tr>\n",
       "      <th>4</th>\n",
       "      <td>11003</td>\n",
       "      <td>1</td>\n",
       "      <td>Mountain Bikes</td>\n",
       "      <td>NaN</td>\n",
       "    </tr>\n",
       "  </tbody>\n",
       "</table>\n",
       "</div>"
      ],
      "text/plain": [
       "   CustomerKey  ...        CustomerName\n",
       "0        21768  ...       Cole A Watson\n",
       "1        28389  ...  Rachael M Martinez\n",
       "2        25863  ...     Sydney S Wright\n",
       "3        14501  ...                 NaN\n",
       "4        11003  ...                 NaN\n",
       "\n",
       "[5 rows x 4 columns]"
      ]
     },
     "execution_count": 64,
     "metadata": {
      "tags": []
     },
     "output_type": "execute_result"
    }
   ],
   "source": [
    "df_final.head()"
   ]
  },
  {
   "cell_type": "code",
   "execution_count": null,
   "metadata": {
    "colab": {
     "base_uri": "https://localhost:8080/",
     "height": 194
    },
    "colab_type": "code",
    "id": "Wrl-BUzSF0Qn",
    "outputId": "4292e2cd-75e9-4583-8e85-75c703220357"
   },
   "outputs": [
    {
     "data": {
      "text/html": [
       "<div>\n",
       "<style scoped>\n",
       "    .dataframe tbody tr th:only-of-type {\n",
       "        vertical-align: middle;\n",
       "    }\n",
       "\n",
       "    .dataframe tbody tr th {\n",
       "        vertical-align: top;\n",
       "    }\n",
       "\n",
       "    .dataframe thead th {\n",
       "        text-align: right;\n",
       "    }\n",
       "</style>\n",
       "<table border=\"1\" class=\"dataframe\">\n",
       "  <thead>\n",
       "    <tr style=\"text-align: right;\">\n",
       "      <th></th>\n",
       "      <th>CustomerKey</th>\n",
       "      <th>ProductSubcategoryAlternateKey</th>\n",
       "      <th>EnglishProductSubcategoryName</th>\n",
       "      <th>CustomerName</th>\n",
       "      <th>PurchaseCount</th>\n",
       "    </tr>\n",
       "  </thead>\n",
       "  <tbody>\n",
       "    <tr>\n",
       "      <th>0</th>\n",
       "      <td>21768</td>\n",
       "      <td>2</td>\n",
       "      <td>Road Bikes</td>\n",
       "      <td>Cole A Watson</td>\n",
       "      <td>8068</td>\n",
       "    </tr>\n",
       "    <tr>\n",
       "      <th>1</th>\n",
       "      <td>14501</td>\n",
       "      <td>2</td>\n",
       "      <td>Road Bikes</td>\n",
       "      <td>NaN</td>\n",
       "      <td>8068</td>\n",
       "    </tr>\n",
       "    <tr>\n",
       "      <th>2</th>\n",
       "      <td>27645</td>\n",
       "      <td>2</td>\n",
       "      <td>Road Bikes</td>\n",
       "      <td>Colin G Anand</td>\n",
       "      <td>8068</td>\n",
       "    </tr>\n",
       "    <tr>\n",
       "      <th>3</th>\n",
       "      <td>16624</td>\n",
       "      <td>2</td>\n",
       "      <td>Road Bikes</td>\n",
       "      <td>Albert R Alvarez</td>\n",
       "      <td>8068</td>\n",
       "    </tr>\n",
       "    <tr>\n",
       "      <th>4</th>\n",
       "      <td>27621</td>\n",
       "      <td>2</td>\n",
       "      <td>Road Bikes</td>\n",
       "      <td>NaN</td>\n",
       "      <td>8068</td>\n",
       "    </tr>\n",
       "  </tbody>\n",
       "</table>\n",
       "</div>"
      ],
      "text/plain": [
       "   CustomerKey  ProductSubcategoryAlternateKey  ...      CustomerName PurchaseCount\n",
       "0        21768                               2  ...     Cole A Watson          8068\n",
       "1        14501                               2  ...               NaN          8068\n",
       "2        27645                               2  ...     Colin G Anand          8068\n",
       "3        16624                               2  ...  Albert R Alvarez          8068\n",
       "4        27621                               2  ...               NaN          8068\n",
       "\n",
       "[5 rows x 5 columns]"
      ]
     },
     "execution_count": 65,
     "metadata": {
      "tags": []
     },
     "output_type": "execute_result"
    }
   ],
   "source": [
    "df_final_merge = df_final.merge(df_subCat, on='ProductSubcategoryAlternateKey')\n",
    "df_final_merge.head()"
   ]
  },
  {
   "cell_type": "code",
   "execution_count": null,
   "metadata": {
    "colab": {},
    "colab_type": "code",
    "id": "a57ASgwPXDHy"
   },
   "outputs": [],
   "source": []
  },
  {
   "cell_type": "code",
   "execution_count": null,
   "metadata": {
    "colab": {},
    "colab_type": "code",
    "id": "Tk0pf08SXt4H"
   },
   "outputs": [],
   "source": [
    "df_custKeyName = pd.DataFrame(data = df_final_merge[['CustomerKey', 'CustomerName']])\n",
    "df_custKeyName.drop_duplicates(keep='first', inplace=True)"
   ]
  },
  {
   "cell_type": "code",
   "execution_count": null,
   "metadata": {
    "colab": {},
    "colab_type": "code",
    "id": "AOVOQ0H-XDCm"
   },
   "outputs": [],
   "source": []
  },
  {
   "cell_type": "code",
   "execution_count": null,
   "metadata": {
    "colab": {
     "base_uri": "https://localhost:8080/",
     "height": 546
    },
    "colab_type": "code",
    "id": "HkgClc83a4dQ",
    "outputId": "bff4d987-447e-42c0-a3f9-1147811d43cf"
   },
   "outputs": [
    {
     "data": {
      "text/html": [
       "<div>\n",
       "<style scoped>\n",
       "    .dataframe tbody tr th:only-of-type {\n",
       "        vertical-align: middle;\n",
       "    }\n",
       "\n",
       "    .dataframe tbody tr th {\n",
       "        vertical-align: top;\n",
       "    }\n",
       "\n",
       "    .dataframe thead th {\n",
       "        text-align: right;\n",
       "    }\n",
       "</style>\n",
       "<table border=\"1\" class=\"dataframe\">\n",
       "  <thead>\n",
       "    <tr style=\"text-align: right;\">\n",
       "      <th></th>\n",
       "      <th>ProductSubcategoryAlternateKey</th>\n",
       "      <th>EnglishProductSubcategoryName</th>\n",
       "    </tr>\n",
       "  </thead>\n",
       "  <tbody>\n",
       "    <tr>\n",
       "      <th>0</th>\n",
       "      <td>2</td>\n",
       "      <td>Road Bikes</td>\n",
       "    </tr>\n",
       "    <tr>\n",
       "      <th>6397</th>\n",
       "      <td>1</td>\n",
       "      <td>Mountain Bikes</td>\n",
       "    </tr>\n",
       "    <tr>\n",
       "      <th>10486</th>\n",
       "      <td>28</td>\n",
       "      <td>Bottles and Cages</td>\n",
       "    </tr>\n",
       "    <tr>\n",
       "      <th>15034</th>\n",
       "      <td>3</td>\n",
       "      <td>Touring Bikes</td>\n",
       "    </tr>\n",
       "    <tr>\n",
       "      <th>17177</th>\n",
       "      <td>31</td>\n",
       "      <td>Helmets</td>\n",
       "    </tr>\n",
       "    <tr>\n",
       "      <th>23137</th>\n",
       "      <td>37</td>\n",
       "      <td>Tires and Tubes</td>\n",
       "    </tr>\n",
       "    <tr>\n",
       "      <th>31627</th>\n",
       "      <td>27</td>\n",
       "      <td>Bike Stands</td>\n",
       "    </tr>\n",
       "    <tr>\n",
       "      <th>31870</th>\n",
       "      <td>21</td>\n",
       "      <td>Jerseys</td>\n",
       "    </tr>\n",
       "    <tr>\n",
       "      <th>35062</th>\n",
       "      <td>20</td>\n",
       "      <td>Gloves</td>\n",
       "    </tr>\n",
       "    <tr>\n",
       "      <th>36438</th>\n",
       "      <td>30</td>\n",
       "      <td>Fenders</td>\n",
       "    </tr>\n",
       "    <tr>\n",
       "      <th>38548</th>\n",
       "      <td>19</td>\n",
       "      <td>Caps</td>\n",
       "    </tr>\n",
       "    <tr>\n",
       "      <th>40680</th>\n",
       "      <td>23</td>\n",
       "      <td>Socks</td>\n",
       "    </tr>\n",
       "    <tr>\n",
       "      <th>41239</th>\n",
       "      <td>32</td>\n",
       "      <td>Hydration Packs</td>\n",
       "    </tr>\n",
       "    <tr>\n",
       "      <th>41958</th>\n",
       "      <td>25</td>\n",
       "      <td>Vests</td>\n",
       "    </tr>\n",
       "    <tr>\n",
       "      <th>42515</th>\n",
       "      <td>29</td>\n",
       "      <td>Cleaners</td>\n",
       "    </tr>\n",
       "    <tr>\n",
       "      <th>43390</th>\n",
       "      <td>26</td>\n",
       "      <td>Bike Racks</td>\n",
       "    </tr>\n",
       "    <tr>\n",
       "      <th>43715</th>\n",
       "      <td>22</td>\n",
       "      <td>Shorts</td>\n",
       "    </tr>\n",
       "  </tbody>\n",
       "</table>\n",
       "</div>"
      ],
      "text/plain": [
       "       ProductSubcategoryAlternateKey EnglishProductSubcategoryName\n",
       "0                                   2                    Road Bikes\n",
       "6397                                1                Mountain Bikes\n",
       "10486                              28             Bottles and Cages\n",
       "15034                               3                 Touring Bikes\n",
       "17177                              31                       Helmets\n",
       "23137                              37               Tires and Tubes\n",
       "31627                              27                   Bike Stands\n",
       "31870                              21                       Jerseys\n",
       "35062                              20                        Gloves\n",
       "36438                              30                       Fenders\n",
       "38548                              19                          Caps\n",
       "40680                              23                         Socks\n",
       "41239                              32               Hydration Packs\n",
       "41958                              25                         Vests\n",
       "42515                              29                      Cleaners\n",
       "43390                              26                    Bike Racks\n",
       "43715                              22                        Shorts"
      ]
     },
     "execution_count": 69,
     "metadata": {
      "tags": []
     },
     "output_type": "execute_result"
    }
   ],
   "source": [
    "subCatNames = df_final_merge[['ProductSubcategoryAlternateKey', 'EnglishProductSubcategoryName']]\n",
    "df_subCatNames = subCatNames.drop_duplicates(keep='first', inplace=False)\n",
    "df_subCatNames"
   ]
  },
  {
   "cell_type": "code",
   "execution_count": null,
   "metadata": {
    "colab": {
     "base_uri": "https://localhost:8080/",
     "height": 35
    },
    "colab_type": "code",
    "id": "D8EbjOSXlC2r",
    "outputId": "6b655e2b-1067-4eba-e224-33222abe45cc"
   },
   "outputs": [
    {
     "data": {
      "text/plain": [
       "(17, 2)"
      ]
     },
     "execution_count": 70,
     "metadata": {
      "tags": []
     },
     "output_type": "execute_result"
    }
   ],
   "source": [
    "df_subCatNames.shape"
   ]
  },
  {
   "cell_type": "code",
   "execution_count": null,
   "metadata": {
    "colab": {
     "base_uri": "https://localhost:8080/",
     "height": 209
    },
    "colab_type": "code",
    "id": "PVZL3baqp3M8",
    "outputId": "310e2f65-4b4f-4f32-e574-f2a83f646017"
   },
   "outputs": [
    {
     "data": {
      "text/html": [
       "<pre>Finished parsing file /content/ProductCountDataset.csv</pre>"
      ],
      "text/plain": [
       "Finished parsing file /content/ProductCountDataset.csv"
      ]
     },
     "metadata": {
      "tags": []
     },
     "output_type": "display_data"
    },
    {
     "data": {
      "text/html": [
       "<pre>Parsing completed. Parsed 100 lines in 0.120041 secs.</pre>"
      ],
      "text/plain": [
       "Parsing completed. Parsed 100 lines in 0.120041 secs."
      ]
     },
     "metadata": {
      "tags": []
     },
     "output_type": "display_data"
    },
    {
     "name": "stdout",
     "output_type": "stream",
     "text": [
      "------------------------------------------------------\n",
      "Inferred types from first 100 line(s) of file as \n",
      "column_type_hints=[int,int,str,str,int]\n",
      "If parsing fails due to incorrect types, you can correct\n",
      "the inferred type list above and pass it to read_csv in\n",
      "the column_type_hints argument\n",
      "------------------------------------------------------\n"
     ]
    },
    {
     "data": {
      "text/html": [
       "<pre>Finished parsing file /content/ProductCountDataset.csv</pre>"
      ],
      "text/plain": [
       "Finished parsing file /content/ProductCountDataset.csv"
      ]
     },
     "metadata": {
      "tags": []
     },
     "output_type": "display_data"
    },
    {
     "data": {
      "text/html": [
       "<pre>Parsing completed. Parsed 44734 lines in 0.068077 secs.</pre>"
      ],
      "text/plain": [
       "Parsing completed. Parsed 44734 lines in 0.068077 secs."
      ]
     },
     "metadata": {
      "tags": []
     },
     "output_type": "display_data"
    }
   ],
   "source": [
    "df_final_merge.to_csv('ProductCountDataset.csv', index=False)\n",
    "actions = tc.SFrame.read_csv('ProductCountDataset.csv')"
   ]
  },
  {
   "cell_type": "markdown",
   "metadata": {
    "colab_type": "text",
    "id": "2QggidPX-aqJ"
   },
   "source": [
    "### <a id='21'> 2.1. Recommendations based on Scaled/Normalized PurchaseCount </a>"
   ]
  },
  {
   "cell_type": "code",
   "execution_count": null,
   "metadata": {
    "colab": {
     "base_uri": "https://localhost:8080/",
     "height": 340
    },
    "colab_type": "code",
    "id": "Viy4UOgK6O3X",
    "outputId": "331ed79b-ed12-4c62-b61e-c5768f26b025"
   },
   "outputs": [
    {
     "data": {
      "text/html": [
       "<div>\n",
       "<style scoped>\n",
       "    .dataframe tbody tr th:only-of-type {\n",
       "        vertical-align: middle;\n",
       "    }\n",
       "\n",
       "    .dataframe tbody tr th {\n",
       "        vertical-align: top;\n",
       "    }\n",
       "\n",
       "    .dataframe thead th {\n",
       "        text-align: right;\n",
       "    }\n",
       "</style>\n",
       "<table border=\"1\" class=\"dataframe\">\n",
       "  <thead>\n",
       "    <tr style=\"text-align: right;\">\n",
       "      <th></th>\n",
       "      <th>CustomerKey</th>\n",
       "      <th>ProductSubcategoryAlternateKey</th>\n",
       "      <th>EnglishProductSubcategoryName</th>\n",
       "      <th>CustomerName</th>\n",
       "      <th>PurchaseCount</th>\n",
       "    </tr>\n",
       "  </thead>\n",
       "  <tbody>\n",
       "    <tr>\n",
       "      <th>0</th>\n",
       "      <td>21768</td>\n",
       "      <td>2</td>\n",
       "      <td>Road Bikes</td>\n",
       "      <td>Cole A Watson</td>\n",
       "      <td>1.474914</td>\n",
       "    </tr>\n",
       "    <tr>\n",
       "      <th>1</th>\n",
       "      <td>14501</td>\n",
       "      <td>2</td>\n",
       "      <td>Road Bikes</td>\n",
       "      <td>NaN</td>\n",
       "      <td>1.474914</td>\n",
       "    </tr>\n",
       "    <tr>\n",
       "      <th>2</th>\n",
       "      <td>27645</td>\n",
       "      <td>2</td>\n",
       "      <td>Road Bikes</td>\n",
       "      <td>Colin G Anand</td>\n",
       "      <td>1.474914</td>\n",
       "    </tr>\n",
       "    <tr>\n",
       "      <th>3</th>\n",
       "      <td>16624</td>\n",
       "      <td>2</td>\n",
       "      <td>Road Bikes</td>\n",
       "      <td>Albert R Alvarez</td>\n",
       "      <td>1.474914</td>\n",
       "    </tr>\n",
       "    <tr>\n",
       "      <th>4</th>\n",
       "      <td>27621</td>\n",
       "      <td>2</td>\n",
       "      <td>Road Bikes</td>\n",
       "      <td>NaN</td>\n",
       "      <td>1.474914</td>\n",
       "    </tr>\n",
       "    <tr>\n",
       "      <th>5</th>\n",
       "      <td>27616</td>\n",
       "      <td>2</td>\n",
       "      <td>Road Bikes</td>\n",
       "      <td>Emma W Brown</td>\n",
       "      <td>1.474914</td>\n",
       "    </tr>\n",
       "    <tr>\n",
       "      <th>6</th>\n",
       "      <td>20042</td>\n",
       "      <td>2</td>\n",
       "      <td>Road Bikes</td>\n",
       "      <td>Brad D Deng</td>\n",
       "      <td>1.474914</td>\n",
       "    </tr>\n",
       "    <tr>\n",
       "      <th>7</th>\n",
       "      <td>16351</td>\n",
       "      <td>2</td>\n",
       "      <td>Road Bikes</td>\n",
       "      <td>Martha C Xu</td>\n",
       "      <td>1.474914</td>\n",
       "    </tr>\n",
       "    <tr>\n",
       "      <th>8</th>\n",
       "      <td>16517</td>\n",
       "      <td>2</td>\n",
       "      <td>Road Bikes</td>\n",
       "      <td>Katrina M Raji</td>\n",
       "      <td>1.474914</td>\n",
       "    </tr>\n",
       "    <tr>\n",
       "      <th>9</th>\n",
       "      <td>27606</td>\n",
       "      <td>2</td>\n",
       "      <td>Road Bikes</td>\n",
       "      <td>Courtney A Edwards</td>\n",
       "      <td>1.474914</td>\n",
       "    </tr>\n",
       "  </tbody>\n",
       "</table>\n",
       "</div>"
      ],
      "text/plain": [
       "   CustomerKey  ...  PurchaseCount\n",
       "0        21768  ...       1.474914\n",
       "1        14501  ...       1.474914\n",
       "2        27645  ...       1.474914\n",
       "3        16624  ...       1.474914\n",
       "4        27621  ...       1.474914\n",
       "5        27616  ...       1.474914\n",
       "6        20042  ...       1.474914\n",
       "7        16351  ...       1.474914\n",
       "8        16517  ...       1.474914\n",
       "9        27606  ...       1.474914\n",
       "\n",
       "[10 rows x 5 columns]"
      ]
     },
     "execution_count": 76,
     "metadata": {
      "tags": []
     },
     "output_type": "execute_result"
    }
   ],
   "source": [
    "# Standardizing ProductCount\n",
    "\n",
    "from sklearn.preprocessing import StandardScaler\n",
    "\n",
    "df_final_merge_scaled = df_final_merge.copy()\n",
    "\n",
    "scalar = StandardScaler(with_mean=False)\n",
    "scalar.fit(df_final_merge_scaled.drop(['CustomerKey','ProductSubcategoryAlternateKey',\n",
    "                                'EnglishProductSubcategoryName', 'CustomerName'],axis=1))\n",
    "scaled = scalar.transform(df_final_merge_scaled.drop(['CustomerKey','ProductSubcategoryAlternateKey',\n",
    "                                                              'EnglishProductSubcategoryName', 'CustomerName'],\n",
    "                                                             axis=1))\n",
    "\n",
    "df_final_merge_scaled['PurchaseCount'] = scaled\n",
    "df_final_merge_scaled.head(10)"
   ]
  },
  {
   "cell_type": "code",
   "execution_count": null,
   "metadata": {
    "colab": {},
    "colab_type": "code",
    "id": "6HLBsbeEAQsx"
   },
   "outputs": [],
   "source": []
  },
  {
   "cell_type": "code",
   "execution_count": null,
   "metadata": {
    "colab": {
     "base_uri": "https://localhost:8080/",
     "height": 209
    },
    "colab_type": "code",
    "id": "fgSOkhhg-jhe",
    "outputId": "744c3148-ea53-4547-8fdf-a6f07aa211f4"
   },
   "outputs": [
    {
     "data": {
      "text/html": [
       "<pre>Finished parsing file /content/ScaledProductCountDataset.csv</pre>"
      ],
      "text/plain": [
       "Finished parsing file /content/ScaledProductCountDataset.csv"
      ]
     },
     "metadata": {
      "tags": []
     },
     "output_type": "display_data"
    },
    {
     "data": {
      "text/html": [
       "<pre>Parsing completed. Parsed 100 lines in 0.111688 secs.</pre>"
      ],
      "text/plain": [
       "Parsing completed. Parsed 100 lines in 0.111688 secs."
      ]
     },
     "metadata": {
      "tags": []
     },
     "output_type": "display_data"
    },
    {
     "name": "stdout",
     "output_type": "stream",
     "text": [
      "------------------------------------------------------\n",
      "Inferred types from first 100 line(s) of file as \n",
      "column_type_hints=[int,int,str,str,float]\n",
      "If parsing fails due to incorrect types, you can correct\n",
      "the inferred type list above and pass it to read_csv in\n",
      "the column_type_hints argument\n",
      "------------------------------------------------------\n"
     ]
    },
    {
     "data": {
      "text/html": [
       "<pre>Finished parsing file /content/ScaledProductCountDataset.csv</pre>"
      ],
      "text/plain": [
       "Finished parsing file /content/ScaledProductCountDataset.csv"
      ]
     },
     "metadata": {
      "tags": []
     },
     "output_type": "display_data"
    },
    {
     "data": {
      "text/html": [
       "<pre>Parsing completed. Parsed 44734 lines in 0.071855 secs.</pre>"
      ],
      "text/plain": [
       "Parsing completed. Parsed 44734 lines in 0.071855 secs."
      ]
     },
     "metadata": {
      "tags": []
     },
     "output_type": "display_data"
    }
   ],
   "source": [
    "df_final_merge_scaled.to_csv('ScaledProductCountDataset.csv', index=False)\n",
    "ScaledActions = tc.SFrame.read_csv('ScaledProductCountDataset.csv')"
   ]
  },
  {
   "cell_type": "code",
   "execution_count": null,
   "metadata": {
    "colab": {
     "base_uri": "https://localhost:8080/",
     "height": 828
    },
    "colab_type": "code",
    "id": "kZfesyw_-tjX",
    "outputId": "86d3ea1d-5045-496a-e334-28caf310403c"
   },
   "outputs": [
    {
     "data": {
      "text/html": [
       "<pre>Preparing data set.</pre>"
      ],
      "text/plain": [
       "Preparing data set."
      ]
     },
     "metadata": {
      "tags": []
     },
     "output_type": "display_data"
    },
    {
     "data": {
      "text/html": [
       "<pre>    Data has 44275 observations with 18429 users and 17 items.</pre>"
      ],
      "text/plain": [
       "    Data has 44275 observations with 18429 users and 17 items."
      ]
     },
     "metadata": {
      "tags": []
     },
     "output_type": "display_data"
    },
    {
     "data": {
      "text/html": [
       "<pre>    Data prepared in: 0.111588s</pre>"
      ],
      "text/plain": [
       "    Data prepared in: 0.111588s"
      ]
     },
     "metadata": {
      "tags": []
     },
     "output_type": "display_data"
    },
    {
     "data": {
      "text/html": [
       "<pre>Training ranking_factorization_recommender for recommendations.</pre>"
      ],
      "text/plain": [
       "Training ranking_factorization_recommender for recommendations."
      ]
     },
     "metadata": {
      "tags": []
     },
     "output_type": "display_data"
    },
    {
     "data": {
      "text/html": [
       "<pre>+--------------------------------+--------------------------------------------------+----------+</pre>"
      ],
      "text/plain": [
       "+--------------------------------+--------------------------------------------------+----------+"
      ]
     },
     "metadata": {
      "tags": []
     },
     "output_type": "display_data"
    },
    {
     "data": {
      "text/html": [
       "<pre>| Parameter                      | Description                                      | Value    |</pre>"
      ],
      "text/plain": [
       "| Parameter                      | Description                                      | Value    |"
      ]
     },
     "metadata": {
      "tags": []
     },
     "output_type": "display_data"
    },
    {
     "data": {
      "text/html": [
       "<pre>+--------------------------------+--------------------------------------------------+----------+</pre>"
      ],
      "text/plain": [
       "+--------------------------------+--------------------------------------------------+----------+"
      ]
     },
     "metadata": {
      "tags": []
     },
     "output_type": "display_data"
    },
    {
     "data": {
      "text/html": [
       "<pre>| num_factors                    | Factor Dimension                                 | 32       |</pre>"
      ],
      "text/plain": [
       "| num_factors                    | Factor Dimension                                 | 32       |"
      ]
     },
     "metadata": {
      "tags": []
     },
     "output_type": "display_data"
    },
    {
     "data": {
      "text/html": [
       "<pre>| regularization                 | L2 Regularization on Factors                     | 1e-09    |</pre>"
      ],
      "text/plain": [
       "| regularization                 | L2 Regularization on Factors                     | 1e-09    |"
      ]
     },
     "metadata": {
      "tags": []
     },
     "output_type": "display_data"
    },
    {
     "data": {
      "text/html": [
       "<pre>| solver                         | Solver used for training                         | adagrad  |</pre>"
      ],
      "text/plain": [
       "| solver                         | Solver used for training                         | adagrad  |"
      ]
     },
     "metadata": {
      "tags": []
     },
     "output_type": "display_data"
    },
    {
     "data": {
      "text/html": [
       "<pre>| linear_regularization          | L2 Regularization on Linear Coefficients         | 1e-09    |</pre>"
      ],
      "text/plain": [
       "| linear_regularization          | L2 Regularization on Linear Coefficients         | 1e-09    |"
      ]
     },
     "metadata": {
      "tags": []
     },
     "output_type": "display_data"
    },
    {
     "data": {
      "text/html": [
       "<pre>| ranking_regularization         | Rank-based Regularization Weight                 | 0.25     |</pre>"
      ],
      "text/plain": [
       "| ranking_regularization         | Rank-based Regularization Weight                 | 0.25     |"
      ]
     },
     "metadata": {
      "tags": []
     },
     "output_type": "display_data"
    },
    {
     "data": {
      "text/html": [
       "<pre>| max_iterations                 | Maximum Number of Iterations                     | 25       |</pre>"
      ],
      "text/plain": [
       "| max_iterations                 | Maximum Number of Iterations                     | 25       |"
      ]
     },
     "metadata": {
      "tags": []
     },
     "output_type": "display_data"
    },
    {
     "data": {
      "text/html": [
       "<pre>+--------------------------------+--------------------------------------------------+----------+</pre>"
      ],
      "text/plain": [
       "+--------------------------------+--------------------------------------------------+----------+"
      ]
     },
     "metadata": {
      "tags": []
     },
     "output_type": "display_data"
    },
    {
     "data": {
      "text/html": [
       "<pre>  Optimizing model using SGD; tuning step size.</pre>"
      ],
      "text/plain": [
       "  Optimizing model using SGD; tuning step size."
      ]
     },
     "metadata": {
      "tags": []
     },
     "output_type": "display_data"
    },
    {
     "data": {
      "text/html": [
       "<pre>  Using 10000 / 44275 points for tuning the step size.</pre>"
      ],
      "text/plain": [
       "  Using 10000 / 44275 points for tuning the step size."
      ]
     },
     "metadata": {
      "tags": []
     },
     "output_type": "display_data"
    },
    {
     "data": {
      "text/html": [
       "<pre>+---------+-------------------+------------------------------------------+</pre>"
      ],
      "text/plain": [
       "+---------+-------------------+------------------------------------------+"
      ]
     },
     "metadata": {
      "tags": []
     },
     "output_type": "display_data"
    },
    {
     "data": {
      "text/html": [
       "<pre>| Attempt | Initial Step Size | Estimated Objective Value                |</pre>"
      ],
      "text/plain": [
       "| Attempt | Initial Step Size | Estimated Objective Value                |"
      ]
     },
     "metadata": {
      "tags": []
     },
     "output_type": "display_data"
    },
    {
     "data": {
      "text/html": [
       "<pre>+---------+-------------------+------------------------------------------+</pre>"
      ],
      "text/plain": [
       "+---------+-------------------+------------------------------------------+"
      ]
     },
     "metadata": {
      "tags": []
     },
     "output_type": "display_data"
    },
    {
     "data": {
      "text/html": [
       "<pre>| 0       | 12.5              | Not Viable                               |</pre>"
      ],
      "text/plain": [
       "| 0       | 12.5              | Not Viable                               |"
      ]
     },
     "metadata": {
      "tags": []
     },
     "output_type": "display_data"
    },
    {
     "data": {
      "text/html": [
       "<pre>| 1       | 3.125             | Not Viable                               |</pre>"
      ],
      "text/plain": [
       "| 1       | 3.125             | Not Viable                               |"
      ]
     },
     "metadata": {
      "tags": []
     },
     "output_type": "display_data"
    },
    {
     "data": {
      "text/html": [
       "<pre>| 2       | 0.78125           | Not Viable                               |</pre>"
      ],
      "text/plain": [
       "| 2       | 0.78125           | Not Viable                               |"
      ]
     },
     "metadata": {
      "tags": []
     },
     "output_type": "display_data"
    },
    {
     "data": {
      "text/html": [
       "<pre>| 3       | 0.195312          | 0.302985                                 |</pre>"
      ],
      "text/plain": [
       "| 3       | 0.195312          | 0.302985                                 |"
      ]
     },
     "metadata": {
      "tags": []
     },
     "output_type": "display_data"
    },
    {
     "data": {
      "text/html": [
       "<pre>| 4       | 0.0976562         | 0.0664598                                |</pre>"
      ],
      "text/plain": [
       "| 4       | 0.0976562         | 0.0664598                                |"
      ]
     },
     "metadata": {
      "tags": []
     },
     "output_type": "display_data"
    },
    {
     "data": {
      "text/html": [
       "<pre>| 5       | 0.0488281         | 0.0119685                                |</pre>"
      ],
      "text/plain": [
       "| 5       | 0.0488281         | 0.0119685                                |"
      ]
     },
     "metadata": {
      "tags": []
     },
     "output_type": "display_data"
    },
    {
     "data": {
      "text/html": [
       "<pre>| 6       | 0.0244141         | 0.00403542                               |</pre>"
      ],
      "text/plain": [
       "| 6       | 0.0244141         | 0.00403542                               |"
      ]
     },
     "metadata": {
      "tags": []
     },
     "output_type": "display_data"
    },
    {
     "data": {
      "text/html": [
       "<pre>| 7       | 0.012207          | 0.0166701                                |</pre>"
      ],
      "text/plain": [
       "| 7       | 0.012207          | 0.0166701                                |"
      ]
     },
     "metadata": {
      "tags": []
     },
     "output_type": "display_data"
    },
    {
     "data": {
      "text/html": [
       "<pre>+---------+-------------------+------------------------------------------+</pre>"
      ],
      "text/plain": [
       "+---------+-------------------+------------------------------------------+"
      ]
     },
     "metadata": {
      "tags": []
     },
     "output_type": "display_data"
    },
    {
     "data": {
      "text/html": [
       "<pre>| Final   | 0.0244141         | 0.00403542                               |</pre>"
      ],
      "text/plain": [
       "| Final   | 0.0244141         | 0.00403542                               |"
      ]
     },
     "metadata": {
      "tags": []
     },
     "output_type": "display_data"
    },
    {
     "data": {
      "text/html": [
       "<pre>+---------+-------------------+------------------------------------------+</pre>"
      ],
      "text/plain": [
       "+---------+-------------------+------------------------------------------+"
      ]
     },
     "metadata": {
      "tags": []
     },
     "output_type": "display_data"
    },
    {
     "data": {
      "text/html": [
       "<pre>Starting Optimization.</pre>"
      ],
      "text/plain": [
       "Starting Optimization."
      ]
     },
     "metadata": {
      "tags": []
     },
     "output_type": "display_data"
    },
    {
     "data": {
      "text/html": [
       "<pre>+---------+--------------+-------------------+-----------------------+-------------+</pre>"
      ],
      "text/plain": [
       "+---------+--------------+-------------------+-----------------------+-------------+"
      ]
     },
     "metadata": {
      "tags": []
     },
     "output_type": "display_data"
    },
    {
     "data": {
      "text/html": [
       "<pre>| Iter.   | Elapsed Time | Approx. Objective | Approx. Training RMSE | Step Size   |</pre>"
      ],
      "text/plain": [
       "| Iter.   | Elapsed Time | Approx. Objective | Approx. Training RMSE | Step Size   |"
      ]
     },
     "metadata": {
      "tags": []
     },
     "output_type": "display_data"
    },
    {
     "data": {
      "text/html": [
       "<pre>+---------+--------------+-------------------+-----------------------+-------------+</pre>"
      ],
      "text/plain": [
       "+---------+--------------+-------------------+-----------------------+-------------+"
      ]
     },
     "metadata": {
      "tags": []
     },
     "output_type": "display_data"
    },
    {
     "data": {
      "text/html": [
       "<pre>| Initial | 111us        | 1.96015           | 0.999782              |             |</pre>"
      ],
      "text/plain": [
       "| Initial | 111us        | 1.96015           | 0.999782              |             |"
      ]
     },
     "metadata": {
      "tags": []
     },
     "output_type": "display_data"
    },
    {
     "data": {
      "text/html": [
       "<pre>+---------+--------------+-------------------+-----------------------+-------------+</pre>"
      ],
      "text/plain": [
       "+---------+--------------+-------------------+-----------------------+-------------+"
      ]
     },
     "metadata": {
      "tags": []
     },
     "output_type": "display_data"
    },
    {
     "data": {
      "text/html": [
       "<pre>| 1       | 179.582ms    | 0.0979583         | 0.21608               | 0.0244141   |</pre>"
      ],
      "text/plain": [
       "| 1       | 179.582ms    | 0.0979583         | 0.21608               | 0.0244141   |"
      ]
     },
     "metadata": {
      "tags": []
     },
     "output_type": "display_data"
    },
    {
     "data": {
      "text/html": [
       "<pre>| 2       | 316.983ms    | 0.0425728         | 0.193452              | 0.0244141   |</pre>"
      ],
      "text/plain": [
       "| 2       | 316.983ms    | 0.0425728         | 0.193452              | 0.0244141   |"
      ]
     },
     "metadata": {
      "tags": []
     },
     "output_type": "display_data"
    },
    {
     "data": {
      "text/html": [
       "<pre>| 3       | 448.724ms    | 0.0108936         | 0.0985309             | 0.0244141   |</pre>"
      ],
      "text/plain": [
       "| 3       | 448.724ms    | 0.0108936         | 0.0985309             | 0.0244141   |"
      ]
     },
     "metadata": {
      "tags": []
     },
     "output_type": "display_data"
    },
    {
     "data": {
      "text/html": [
       "<pre>| 4       | 567.666ms    | 0.00300061        | 0.0517277             | 0.0244141   |</pre>"
      ],
      "text/plain": [
       "| 4       | 567.666ms    | 0.00300061        | 0.0517277             | 0.0244141   |"
      ]
     },
     "metadata": {
      "tags": []
     },
     "output_type": "display_data"
    },
    {
     "data": {
      "text/html": [
       "<pre>| 5       | 680.644ms    | 0.000914455       | 0.0285756             | 0.0244141   |</pre>"
      ],
      "text/plain": [
       "| 5       | 680.644ms    | 0.000914455       | 0.0285756             | 0.0244141   |"
      ]
     },
     "metadata": {
      "tags": []
     },
     "output_type": "display_data"
    },
    {
     "data": {
      "text/html": [
       "<pre>| 10      | 1.23s        | 3.13198e-05       | 0.00503506            | 0.0244141   |</pre>"
      ],
      "text/plain": [
       "| 10      | 1.23s        | 3.13198e-05       | 0.00503506            | 0.0244141   |"
      ]
     },
     "metadata": {
      "tags": []
     },
     "output_type": "display_data"
    },
    {
     "data": {
      "text/html": [
       "<pre>| 14      | 1.67s        | 1.06194e-05       | 0.00292663            | 0.0244141   |</pre>"
      ],
      "text/plain": [
       "| 14      | 1.67s        | 1.06194e-05       | 0.00292663            | 0.0244141   |"
      ]
     },
     "metadata": {
      "tags": []
     },
     "output_type": "display_data"
    },
    {
     "data": {
      "text/html": [
       "<pre>+---------+--------------+-------------------+-----------------------+-------------+</pre>"
      ],
      "text/plain": [
       "+---------+--------------+-------------------+-----------------------+-------------+"
      ]
     },
     "metadata": {
      "tags": []
     },
     "output_type": "display_data"
    },
    {
     "data": {
      "text/html": [
       "<pre>Optimization Complete: Convergence on objective within bounds.</pre>"
      ],
      "text/plain": [
       "Optimization Complete: Convergence on objective within bounds."
      ]
     },
     "metadata": {
      "tags": []
     },
     "output_type": "display_data"
    },
    {
     "data": {
      "text/html": [
       "<pre>Computing final objective value and training RMSE.</pre>"
      ],
      "text/plain": [
       "Computing final objective value and training RMSE."
      ]
     },
     "metadata": {
      "tags": []
     },
     "output_type": "display_data"
    },
    {
     "data": {
      "text/html": [
       "<pre>       Final objective value: 3.10972e-05</pre>"
      ],
      "text/plain": [
       "       Final objective value: 3.10972e-05"
      ]
     },
     "metadata": {
      "tags": []
     },
     "output_type": "display_data"
    },
    {
     "data": {
      "text/html": [
       "<pre>       Final training RMSE: 0.00536669</pre>"
      ],
      "text/plain": [
       "       Final training RMSE: 0.00536669"
      ]
     },
     "metadata": {
      "tags": []
     },
     "output_type": "display_data"
    }
   ],
   "source": [
    "ScaledTraining_data, ScaledValidation_data = tc.recommender.util.random_split_by_user(ScaledActions,'CustomerKey',\n",
    "                                                                          'ProductSubcategoryAlternateKey')\n",
    "ScaledModel = tc.recommender.create(ScaledTraining_data, 'CustomerKey', 'ProductSubcategoryAlternateKey',\n",
    "                              target= 'PurchaseCount')"
   ]
  },
  {
   "cell_type": "code",
   "execution_count": null,
   "metadata": {
    "colab": {},
    "colab_type": "code",
    "id": "SWlot--15tEY"
   },
   "outputs": [],
   "source": [
    "r = ScaledModel.recommend(users=[28203], k=5)"
   ]
  },
  {
   "cell_type": "code",
   "execution_count": null,
   "metadata": {
    "colab": {
     "base_uri": "https://localhost:8080/",
     "height": 164
    },
    "colab_type": "code",
    "id": "7se_zZSB6y0T",
    "outputId": "9a713139-d7a4-4685-d7be-8f4ca2073f73"
   },
   "outputs": [
    {
     "data": {
      "text/html": [
       "<div style=\"max-height:1000px;max-width:1500px;overflow:auto;\"><table frame=\"box\" rules=\"cols\">\n",
       "    <tr>\n",
       "        <th style=\"padding-left: 1em; padding-right: 1em; text-align: center\">CustomerKey</th>\n",
       "        <th style=\"padding-left: 1em; padding-right: 1em; text-align: center\">ProductSubcategoryAlterna<br>teKey ...</th>\n",
       "        <th style=\"padding-left: 1em; padding-right: 1em; text-align: center\">score</th>\n",
       "        <th style=\"padding-left: 1em; padding-right: 1em; text-align: center\">rank</th>\n",
       "    </tr>\n",
       "    <tr>\n",
       "        <td style=\"padding-left: 1em; padding-right: 1em; text-align: center; vertical-align: top\">28203</td>\n",
       "        <td style=\"padding-left: 1em; padding-right: 1em; text-align: center; vertical-align: top\">37</td>\n",
       "        <td style=\"padding-left: 1em; padding-right: 1em; text-align: center; vertical-align: top\">1.4264815588625668</td>\n",
       "        <td style=\"padding-left: 1em; padding-right: 1em; text-align: center; vertical-align: top\">1</td>\n",
       "    </tr>\n",
       "    <tr>\n",
       "        <td style=\"padding-left: 1em; padding-right: 1em; text-align: center; vertical-align: top\">28203</td>\n",
       "        <td style=\"padding-left: 1em; padding-right: 1em; text-align: center; vertical-align: top\">2</td>\n",
       "        <td style=\"padding-left: 1em; padding-right: 1em; text-align: center; vertical-align: top\">1.1484586418750284</td>\n",
       "        <td style=\"padding-left: 1em; padding-right: 1em; text-align: center; vertical-align: top\">2</td>\n",
       "    </tr>\n",
       "    <tr>\n",
       "        <td style=\"padding-left: 1em; padding-right: 1em; text-align: center; vertical-align: top\">28203</td>\n",
       "        <td style=\"padding-left: 1em; padding-right: 1em; text-align: center; vertical-align: top\">26</td>\n",
       "        <td style=\"padding-left: 1em; padding-right: 1em; text-align: center; vertical-align: top\">1.0683089521857498</td>\n",
       "        <td style=\"padding-left: 1em; padding-right: 1em; text-align: center; vertical-align: top\">3</td>\n",
       "    </tr>\n",
       "    <tr>\n",
       "        <td style=\"padding-left: 1em; padding-right: 1em; text-align: center; vertical-align: top\">28203</td>\n",
       "        <td style=\"padding-left: 1em; padding-right: 1em; text-align: center; vertical-align: top\">1</td>\n",
       "        <td style=\"padding-left: 1em; padding-right: 1em; text-align: center; vertical-align: top\">1.0596652113976477</td>\n",
       "        <td style=\"padding-left: 1em; padding-right: 1em; text-align: center; vertical-align: top\">4</td>\n",
       "    </tr>\n",
       "    <tr>\n",
       "        <td style=\"padding-left: 1em; padding-right: 1em; text-align: center; vertical-align: top\">28203</td>\n",
       "        <td style=\"padding-left: 1em; padding-right: 1em; text-align: center; vertical-align: top\">32</td>\n",
       "        <td style=\"padding-left: 1em; padding-right: 1em; text-align: center; vertical-align: top\">1.0359873612555264</td>\n",
       "        <td style=\"padding-left: 1em; padding-right: 1em; text-align: center; vertical-align: top\">5</td>\n",
       "    </tr>\n",
       "</table>\n",
       "[5 rows x 4 columns]<br/>\n",
       "</div>"
      ],
      "text/plain": [
       "Columns:\n",
       "\tCustomerKey\tint\n",
       "\tProductSubcategoryAlternateKey\tint\n",
       "\tscore\tfloat\n",
       "\trank\tint\n",
       "\n",
       "Rows: 5\n",
       "\n",
       "Data:\n",
       "+-------------+--------------------------------+--------------------+------+\n",
       "| CustomerKey | ProductSubcategoryAlternateKey |       score        | rank |\n",
       "+-------------+--------------------------------+--------------------+------+\n",
       "|    28203    |               37               | 1.4264815588625668 |  1   |\n",
       "|    28203    |               2                | 1.1484586418750284 |  2   |\n",
       "|    28203    |               26               | 1.0683089521857498 |  3   |\n",
       "|    28203    |               1                | 1.0596652113976477 |  4   |\n",
       "|    28203    |               32               | 1.0359873612555264 |  5   |\n",
       "+-------------+--------------------------------+--------------------+------+\n",
       "[5 rows x 4 columns]"
      ]
     },
     "execution_count": 131,
     "metadata": {
      "tags": []
     },
     "output_type": "execute_result"
    }
   ],
   "source": [
    "r"
   ]
  },
  {
   "cell_type": "code",
   "execution_count": null,
   "metadata": {
    "colab": {},
    "colab_type": "code",
    "id": "Dsg6lAhA7lJ_"
   },
   "outputs": [],
   "source": []
  },
  {
   "cell_type": "code",
   "execution_count": null,
   "metadata": {
    "colab": {},
    "colab_type": "code",
    "id": "9DiiW981_JkP"
   },
   "outputs": [],
   "source": [
    "def recommendProducts(s):\n",
    "  name = df_custKeyName.loc[df_custKeyName['CustomerKey'] == s, 'CustomerName'].iloc[0]\n",
    "  print(s,' Customer Name: ', name, ', Recommendations:\\n')\n",
    "  results = ScaledModel.recommend(users=[s], k=7)\n",
    "  for i in results['ProductSubcategoryAlternateKey']:\n",
    "    print(df_subCatNames.loc[df_subCatNames.ProductSubcategoryAlternateKey == i,\n",
    "                             'EnglishProductSubcategoryName'].values[0])"
   ]
  },
  {
   "cell_type": "markdown",
   "metadata": {
    "colab_type": "text",
    "id": "gLnCK28jDEII"
   },
   "source": [
    "#### <a id='211'> 2.1.1. Sample Recommendations </a>"
   ]
  },
  {
   "cell_type": "code",
   "execution_count": null,
   "metadata": {
    "colab": {
     "base_uri": "https://localhost:8080/",
     "height": 177
    },
    "colab_type": "code",
    "id": "PpqVem3i_O9Z",
    "outputId": "7c42077b-69f1-4f85-d7f9-9f41227ddf8e"
   },
   "outputs": [
    {
     "name": "stdout",
     "output_type": "stream",
     "text": [
      "11449  Customer Name:  Alvin E Hu , Recommendations:\n",
      "\n",
      "Road Bikes\n",
      "Bike Racks\n",
      "Helmets\n",
      "Cleaners\n",
      "Hydration Packs\n",
      "Bike Stands\n",
      "Bottles and Cages\n"
     ]
    }
   ],
   "source": [
    "recommendProducts(11449) # recommendProducts(CustomerID)"
   ]
  },
  {
   "cell_type": "code",
   "execution_count": null,
   "metadata": {
    "colab": {
     "base_uri": "https://localhost:8080/",
     "height": 177
    },
    "colab_type": "code",
    "id": "qvq-AYHFAvtO",
    "outputId": "cb96ecb8-1e32-4976-d068-546aa56b908f"
   },
   "outputs": [
    {
     "name": "stdout",
     "output_type": "stream",
     "text": [
      "28204  Customer Name:  Peter K Xu , Recommendations:\n",
      "\n",
      "Tires and Tubes\n",
      "Road Bikes\n",
      "Mountain Bikes\n",
      "Cleaners\n",
      "Bike Racks\n",
      "Bottles and Cages\n",
      "Hydration Packs\n"
     ]
    }
   ],
   "source": [
    "recommendProducts(28204)"
   ]
  },
  {
   "cell_type": "markdown",
   "metadata": {
    "colab_type": "text",
    "id": "xa3jDv6VA9GZ"
   },
   "source": [
    "---\n",
    "#### <a id='212'> 2.1.2. Model Evaluation </a>"
   ]
  },
  {
   "cell_type": "code",
   "execution_count": null,
   "metadata": {
    "colab": {
     "base_uri": "https://localhost:8080/",
     "height": 1000
    },
    "colab_type": "code",
    "id": "V_uB6tc0_RXm",
    "outputId": "e669a3aa-c646-413a-e3e4-0db294bd62a8"
   },
   "outputs": [
    {
     "name": "stdout",
     "output_type": "stream",
     "text": [
      "\n",
      "Precision and recall summary statistics by cutoff\n",
      "+--------+---------------------+---------------------+\n",
      "| cutoff |    mean_precision   |     mean_recall     |\n",
      "+--------+---------------------+---------------------+\n",
      "|   1    |  0.2698412698412699 | 0.23434744268077604 |\n",
      "|   2    | 0.22486772486772486 | 0.39616402116402116 |\n",
      "|   3    | 0.17283950617283947 |  0.4497354497354497 |\n",
      "|   4    | 0.15145502645502654 |  0.5207231040564374 |\n",
      "|   5    |  0.1375661375661375 |  0.5899470899470898 |\n",
      "|   6    |  0.1252204585537919 |  0.6360229276895945 |\n",
      "|   7    | 0.11640211640211642 |  0.6924603174603174 |\n",
      "|   8    | 0.10681216931216932 |  0.7224426807760143 |\n",
      "|   9    | 0.10052910052910057 |   0.76521164021164  |\n",
      "|   10   | 0.09503233392122282 |  0.8004850088183421 |\n",
      "+--------+---------------------+---------------------+\n",
      "[10 rows x 3 columns]\n",
      "\n",
      "\n",
      "Overall RMSE: 0.15629240602687172\n",
      "\n",
      "Per User RMSE (best)\n",
      "+-------------+------------------------+-------+\n",
      "| CustomerKey |          rmse          | count |\n",
      "+-------------+------------------------+-------+\n",
      "|    12191    | 0.00022858118526231097 |   1   |\n",
      "+-------------+------------------------+-------+\n",
      "[1 rows x 3 columns]\n",
      "\n",
      "\n",
      "Per User RMSE (worst)\n",
      "+-------------+--------------------+-------+\n",
      "| CustomerKey |        rmse        | count |\n",
      "+-------------+--------------------+-------+\n",
      "|    13873    | 0.6281024394703394 |   1   |\n",
      "+-------------+--------------------+-------+\n",
      "[1 rows x 3 columns]\n",
      "\n",
      "\n",
      "Per Item RMSE (best)\n",
      "+--------------------------------+--------------------+-------+\n",
      "| ProductSubcategoryAlternateKey |        rmse        | count |\n",
      "+--------------------------------+--------------------+-------+\n",
      "|               23               | 0.0055748450271456 |   1   |\n",
      "+--------------------------------+--------------------+-------+\n",
      "[1 rows x 3 columns]\n",
      "\n",
      "\n",
      "Per Item RMSE (worst)\n",
      "+--------------------------------+--------------------+-------+\n",
      "| ProductSubcategoryAlternateKey |        rmse        | count |\n",
      "+--------------------------------+--------------------+-------+\n",
      "|               37               | 0.2203855120542011 |   88  |\n",
      "+--------------------------------+--------------------+-------+\n",
      "[1 rows x 3 columns]\n",
      "\n"
     ]
    },
    {
     "data": {
      "text/plain": [
       "{'precision_recall_by_user': Columns:\n",
       " \tCustomerKey\tint\n",
       " \tcutoff\tint\n",
       " \tprecision\tfloat\n",
       " \trecall\tfloat\n",
       " \tcount\tint\n",
       " \n",
       " Rows: 6804\n",
       " \n",
       " Data:\n",
       " +-------------+--------+-----------+--------+-------+\n",
       " | CustomerKey | cutoff | precision | recall | count |\n",
       " +-------------+--------+-----------+--------+-------+\n",
       " |    27671    |   1    |    0.0    |  0.0   |   1   |\n",
       " |    27671    |   2    |    0.0    |  0.0   |   1   |\n",
       " |    27671    |   3    |    0.0    |  0.0   |   1   |\n",
       " |    27671    |   4    |    0.0    |  0.0   |   1   |\n",
       " |    27671    |   5    |    0.0    |  0.0   |   1   |\n",
       " |    27671    |   6    |    0.0    |  0.0   |   1   |\n",
       " |    27671    |   7    |    0.0    |  0.0   |   1   |\n",
       " |    27671    |   8    |    0.0    |  0.0   |   1   |\n",
       " |    27671    |   9    |    0.0    |  0.0   |   1   |\n",
       " |    27671    |   10   |    0.0    |  0.0   |   1   |\n",
       " +-------------+--------+-----------+--------+-------+\n",
       " [6804 rows x 5 columns]\n",
       " Note: Only the head of the SFrame is printed.\n",
       " You can use print_rows(num_rows=m, num_columns=n) to print more rows and columns.,\n",
       " 'precision_recall_overall': Columns:\n",
       " \tcutoff\tint\n",
       " \tprecision\tfloat\n",
       " \trecall\tfloat\n",
       " \n",
       " Rows: 18\n",
       " \n",
       " Data:\n",
       " +--------+---------------------+---------------------+\n",
       " | cutoff |      precision      |        recall       |\n",
       " +--------+---------------------+---------------------+\n",
       " |   1    |  0.2698412698412699 | 0.23434744268077604 |\n",
       " |   2    | 0.22486772486772486 | 0.39616402116402116 |\n",
       " |   3    | 0.17283950617283947 |  0.4497354497354497 |\n",
       " |   4    | 0.15145502645502654 |  0.5207231040564374 |\n",
       " |   5    |  0.1375661375661375 |  0.5899470899470898 |\n",
       " |   6    |  0.1252204585537919 |  0.6360229276895945 |\n",
       " |   7    | 0.11640211640211642 |  0.6924603174603174 |\n",
       " |   8    | 0.10681216931216932 |  0.7224426807760143 |\n",
       " |   9    | 0.10052910052910057 |   0.76521164021164  |\n",
       " |   10   | 0.09503233392122282 |  0.8004850088183421 |\n",
       " +--------+---------------------+---------------------+\n",
       " [18 rows x 3 columns]\n",
       " Note: Only the head of the SFrame is printed.\n",
       " You can use print_rows(num_rows=m, num_columns=n) to print more rows and columns.,\n",
       " 'rmse_by_item': Columns:\n",
       " \tProductSubcategoryAlternateKey\tint\n",
       " \trmse\tfloat\n",
       " \tcount\tint\n",
       " \n",
       " Rows: 17\n",
       " \n",
       " Data:\n",
       " +--------------------------------+----------------------+-------+\n",
       " | ProductSubcategoryAlternateKey |         rmse         | count |\n",
       " +--------------------------------+----------------------+-------+\n",
       " |               20               | 0.12241429334153621  |   15  |\n",
       " |               22               | 0.047688933615635296 |   10  |\n",
       " |               29               | 0.06428349760287864  |   12  |\n",
       " |               19               | 0.13216849412783924  |   22  |\n",
       " |               2                |  0.1603274926325501  |   70  |\n",
       " |               23               |  0.0055748450271456  |   1   |\n",
       " |               30               | 0.09725399812968291  |   28  |\n",
       " |               3                | 0.07432926009658224  |   24  |\n",
       " |               1                | 0.12386254672099938  |   41  |\n",
       " |               21               | 0.12822872666864546  |   30  |\n",
       " +--------------------------------+----------------------+-------+\n",
       " [17 rows x 3 columns]\n",
       " Note: Only the head of the SFrame is printed.\n",
       " You can use print_rows(num_rows=m, num_columns=n) to print more rows and columns.,\n",
       " 'rmse_by_user': Columns:\n",
       " \tCustomerKey\tint\n",
       " \trmse\tfloat\n",
       " \tcount\tint\n",
       " \n",
       " Rows: 378\n",
       " \n",
       " Data:\n",
       " +-------------+-----------------------+-------+\n",
       " | CustomerKey |          rmse         | count |\n",
       " +-------------+-----------------------+-------+\n",
       " |    16580    |  0.20493985962970135  |   2   |\n",
       " |    14446    |   0.2718360962027049  |   1   |\n",
       " |    22985    |  0.01636176456217253  |   1   |\n",
       " |    14530    |  0.08917085245785472  |   1   |\n",
       " |    14279    |  0.12036419070835369  |   3   |\n",
       " |    25198    |  0.014988720710531644 |   1   |\n",
       " |    17911    |  0.17232566459035992  |   1   |\n",
       " |    27132    |  0.08463319677927972  |   1   |\n",
       " |    17438    |  0.18824436386627474  |   1   |\n",
       " |    25952    | 0.0005728005762463129 |   1   |\n",
       " +-------------+-----------------------+-------+\n",
       " [378 rows x 3 columns]\n",
       " Note: Only the head of the SFrame is printed.\n",
       " You can use print_rows(num_rows=m, num_columns=n) to print more rows and columns.,\n",
       " 'rmse_overall': 0.15629240602687172}"
      ]
     },
     "execution_count": 144,
     "metadata": {
      "tags": []
     },
     "output_type": "execute_result"
    }
   ],
   "source": [
    "ScaledEval = ScaledModel.evaluate(ScaledValidation_data)\n",
    "ScaledEval"
   ]
  },
  {
   "cell_type": "code",
   "execution_count": null,
   "metadata": {
    "colab": {},
    "colab_type": "code",
    "id": "Z5w-AVHQ_dM7"
   },
   "outputs": [],
   "source": []
  },
  {
   "cell_type": "markdown",
   "metadata": {
    "colab_type": "text",
    "id": "9jnV0D3sb-0-"
   },
   "source": [
    "---\n",
    "### <a id='22'> 2.2. Recommendations based on Non-Scaled PurchaseCount </a>"
   ]
  },
  {
   "cell_type": "code",
   "execution_count": null,
   "metadata": {
    "colab": {
     "base_uri": "https://localhost:8080/",
     "height": 760
    },
    "colab_type": "code",
    "id": "V3esVcvoI4Ry",
    "outputId": "3d31f5cf-b6b3-4b3b-92c0-0183563f2339"
   },
   "outputs": [
    {
     "data": {
      "text/html": [
       "<pre>Preparing data set.</pre>"
      ],
      "text/plain": [
       "Preparing data set."
      ]
     },
     "metadata": {
      "tags": []
     },
     "output_type": "display_data"
    },
    {
     "data": {
      "text/html": [
       "<pre>    Data has 44275 observations with 18429 users and 17 items.</pre>"
      ],
      "text/plain": [
       "    Data has 44275 observations with 18429 users and 17 items."
      ]
     },
     "metadata": {
      "tags": []
     },
     "output_type": "display_data"
    },
    {
     "data": {
      "text/html": [
       "<pre>    Data prepared in: 0.119584s</pre>"
      ],
      "text/plain": [
       "    Data prepared in: 0.119584s"
      ]
     },
     "metadata": {
      "tags": []
     },
     "output_type": "display_data"
    },
    {
     "data": {
      "text/html": [
       "<pre>Training ranking_factorization_recommender for recommendations.</pre>"
      ],
      "text/plain": [
       "Training ranking_factorization_recommender for recommendations."
      ]
     },
     "metadata": {
      "tags": []
     },
     "output_type": "display_data"
    },
    {
     "data": {
      "text/html": [
       "<pre>+--------------------------------+--------------------------------------------------+----------+</pre>"
      ],
      "text/plain": [
       "+--------------------------------+--------------------------------------------------+----------+"
      ]
     },
     "metadata": {
      "tags": []
     },
     "output_type": "display_data"
    },
    {
     "data": {
      "text/html": [
       "<pre>| Parameter                      | Description                                      | Value    |</pre>"
      ],
      "text/plain": [
       "| Parameter                      | Description                                      | Value    |"
      ]
     },
     "metadata": {
      "tags": []
     },
     "output_type": "display_data"
    },
    {
     "data": {
      "text/html": [
       "<pre>+--------------------------------+--------------------------------------------------+----------+</pre>"
      ],
      "text/plain": [
       "+--------------------------------+--------------------------------------------------+----------+"
      ]
     },
     "metadata": {
      "tags": []
     },
     "output_type": "display_data"
    },
    {
     "data": {
      "text/html": [
       "<pre>| num_factors                    | Factor Dimension                                 | 32       |</pre>"
      ],
      "text/plain": [
       "| num_factors                    | Factor Dimension                                 | 32       |"
      ]
     },
     "metadata": {
      "tags": []
     },
     "output_type": "display_data"
    },
    {
     "data": {
      "text/html": [
       "<pre>| regularization                 | L2 Regularization on Factors                     | 1e-09    |</pre>"
      ],
      "text/plain": [
       "| regularization                 | L2 Regularization on Factors                     | 1e-09    |"
      ]
     },
     "metadata": {
      "tags": []
     },
     "output_type": "display_data"
    },
    {
     "data": {
      "text/html": [
       "<pre>| solver                         | Solver used for training                         | adagrad  |</pre>"
      ],
      "text/plain": [
       "| solver                         | Solver used for training                         | adagrad  |"
      ]
     },
     "metadata": {
      "tags": []
     },
     "output_type": "display_data"
    },
    {
     "data": {
      "text/html": [
       "<pre>| linear_regularization          | L2 Regularization on Linear Coefficients         | 1e-09    |</pre>"
      ],
      "text/plain": [
       "| linear_regularization          | L2 Regularization on Linear Coefficients         | 1e-09    |"
      ]
     },
     "metadata": {
      "tags": []
     },
     "output_type": "display_data"
    },
    {
     "data": {
      "text/html": [
       "<pre>| ranking_regularization         | Rank-based Regularization Weight                 | 0.25     |</pre>"
      ],
      "text/plain": [
       "| ranking_regularization         | Rank-based Regularization Weight                 | 0.25     |"
      ]
     },
     "metadata": {
      "tags": []
     },
     "output_type": "display_data"
    },
    {
     "data": {
      "text/html": [
       "<pre>| max_iterations                 | Maximum Number of Iterations                     | 25       |</pre>"
      ],
      "text/plain": [
       "| max_iterations                 | Maximum Number of Iterations                     | 25       |"
      ]
     },
     "metadata": {
      "tags": []
     },
     "output_type": "display_data"
    },
    {
     "data": {
      "text/html": [
       "<pre>+--------------------------------+--------------------------------------------------+----------+</pre>"
      ],
      "text/plain": [
       "+--------------------------------+--------------------------------------------------+----------+"
      ]
     },
     "metadata": {
      "tags": []
     },
     "output_type": "display_data"
    },
    {
     "data": {
      "text/html": [
       "<pre>  Optimizing model using SGD; tuning step size.</pre>"
      ],
      "text/plain": [
       "  Optimizing model using SGD; tuning step size."
      ]
     },
     "metadata": {
      "tags": []
     },
     "output_type": "display_data"
    },
    {
     "data": {
      "text/html": [
       "<pre>  Using 10000 / 44275 points for tuning the step size.</pre>"
      ],
      "text/plain": [
       "  Using 10000 / 44275 points for tuning the step size."
      ]
     },
     "metadata": {
      "tags": []
     },
     "output_type": "display_data"
    },
    {
     "data": {
      "text/html": [
       "<pre>+---------+-------------------+------------------------------------------+</pre>"
      ],
      "text/plain": [
       "+---------+-------------------+------------------------------------------+"
      ]
     },
     "metadata": {
      "tags": []
     },
     "output_type": "display_data"
    },
    {
     "data": {
      "text/html": [
       "<pre>| Attempt | Initial Step Size | Estimated Objective Value                |</pre>"
      ],
      "text/plain": [
       "| Attempt | Initial Step Size | Estimated Objective Value                |"
      ]
     },
     "metadata": {
      "tags": []
     },
     "output_type": "display_data"
    },
    {
     "data": {
      "text/html": [
       "<pre>+---------+-------------------+------------------------------------------+</pre>"
      ],
      "text/plain": [
       "+---------+-------------------+------------------------------------------+"
      ]
     },
     "metadata": {
      "tags": []
     },
     "output_type": "display_data"
    },
    {
     "data": {
      "text/html": [
       "<pre>| 0       | 12.5              | 325437                                   |</pre>"
      ],
      "text/plain": [
       "| 0       | 12.5              | 325437                                   |"
      ]
     },
     "metadata": {
      "tags": []
     },
     "output_type": "display_data"
    },
    {
     "data": {
      "text/html": [
       "<pre>| 1       | 6.25              | 339813                                   |</pre>"
      ],
      "text/plain": [
       "| 1       | 6.25              | 339813                                   |"
      ]
     },
     "metadata": {
      "tags": []
     },
     "output_type": "display_data"
    },
    {
     "data": {
      "text/html": [
       "<pre>| 2       | 3.125             | 422672                                   |</pre>"
      ],
      "text/plain": [
       "| 2       | 3.125             | 422672                                   |"
      ]
     },
     "metadata": {
      "tags": []
     },
     "output_type": "display_data"
    },
    {
     "data": {
      "text/html": [
       "<pre>| 3       | 1.5625            | 456462                                   |</pre>"
      ],
      "text/plain": [
       "| 3       | 1.5625            | 456462                                   |"
      ]
     },
     "metadata": {
      "tags": []
     },
     "output_type": "display_data"
    },
    {
     "data": {
      "text/html": [
       "<pre>+---------+-------------------+------------------------------------------+</pre>"
      ],
      "text/plain": [
       "+---------+-------------------+------------------------------------------+"
      ]
     },
     "metadata": {
      "tags": []
     },
     "output_type": "display_data"
    },
    {
     "data": {
      "text/html": [
       "<pre>| Final   | 12.5              | 325437                                   |</pre>"
      ],
      "text/plain": [
       "| Final   | 12.5              | 325437                                   |"
      ]
     },
     "metadata": {
      "tags": []
     },
     "output_type": "display_data"
    },
    {
     "data": {
      "text/html": [
       "<pre>+---------+-------------------+------------------------------------------+</pre>"
      ],
      "text/plain": [
       "+---------+-------------------+------------------------------------------+"
      ]
     },
     "metadata": {
      "tags": []
     },
     "output_type": "display_data"
    },
    {
     "data": {
      "text/html": [
       "<pre>Starting Optimization.</pre>"
      ],
      "text/plain": [
       "Starting Optimization."
      ]
     },
     "metadata": {
      "tags": []
     },
     "output_type": "display_data"
    },
    {
     "data": {
      "text/html": [
       "<pre>+---------+--------------+-------------------+-----------------------+-------------+</pre>"
      ],
      "text/plain": [
       "+---------+--------------+-------------------+-----------------------+-------------+"
      ]
     },
     "metadata": {
      "tags": []
     },
     "output_type": "display_data"
    },
    {
     "data": {
      "text/html": [
       "<pre>| Iter.   | Elapsed Time | Approx. Objective | Approx. Training RMSE | Step Size   |</pre>"
      ],
      "text/plain": [
       "| Iter.   | Elapsed Time | Approx. Objective | Approx. Training RMSE | Step Size   |"
      ]
     },
     "metadata": {
      "tags": []
     },
     "output_type": "display_data"
    },
    {
     "data": {
      "text/html": [
       "<pre>+---------+--------------+-------------------+-----------------------+-------------+</pre>"
      ],
      "text/plain": [
       "+---------+--------------+-------------------+-----------------------+-------------+"
      ]
     },
     "metadata": {
      "tags": []
     },
     "output_type": "display_data"
    },
    {
     "data": {
      "text/html": [
       "<pre>| Initial | 144us        | 5.86483e+07       | 5469.57               |             |</pre>"
      ],
      "text/plain": [
       "| Initial | 144us        | 5.86483e+07       | 5469.57               |             |"
      ]
     },
     "metadata": {
      "tags": []
     },
     "output_type": "display_data"
    },
    {
     "data": {
      "text/html": [
       "<pre>+---------+--------------+-------------------+-----------------------+-------------+</pre>"
      ],
      "text/plain": [
       "+---------+--------------+-------------------+-----------------------+-------------+"
      ]
     },
     "metadata": {
      "tags": []
     },
     "output_type": "display_data"
    },
    {
     "data": {
      "text/html": [
       "<pre>| 1       | 156.332ms    | 961115            | 770.105               | 12.5        |</pre>"
      ],
      "text/plain": [
       "| 1       | 156.332ms    | 961115            | 770.105               | 12.5        |"
      ]
     },
     "metadata": {
      "tags": []
     },
     "output_type": "display_data"
    },
    {
     "data": {
      "text/html": [
       "<pre>| 2       | 303.817ms    | 418609            | 613.524               | 12.5        |</pre>"
      ],
      "text/plain": [
       "| 2       | 303.817ms    | 418609            | 613.524               | 12.5        |"
      ]
     },
     "metadata": {
      "tags": []
     },
     "output_type": "display_data"
    },
    {
     "data": {
      "text/html": [
       "<pre>| 3       | 452.849ms    | 380861            | 589.272               | 12.5        |</pre>"
      ],
      "text/plain": [
       "| 3       | 452.849ms    | 380861            | 589.272               | 12.5        |"
      ]
     },
     "metadata": {
      "tags": []
     },
     "output_type": "display_data"
    },
    {
     "data": {
      "text/html": [
       "<pre>| 4       | 601.25ms     | 308643            | 532.237               | 12.5        |</pre>"
      ],
      "text/plain": [
       "| 4       | 601.25ms     | 308643            | 532.237               | 12.5        |"
      ]
     },
     "metadata": {
      "tags": []
     },
     "output_type": "display_data"
    },
    {
     "data": {
      "text/html": [
       "<pre>| 5       | 737.692ms    | 247308            | 479.485               | 12.5        |</pre>"
      ],
      "text/plain": [
       "| 5       | 737.692ms    | 247308            | 479.485               | 12.5        |"
      ]
     },
     "metadata": {
      "tags": []
     },
     "output_type": "display_data"
    },
    {
     "data": {
      "text/html": [
       "<pre>| 10      | 1.39s        | 148481            | 372.257               | 12.5        |</pre>"
      ],
      "text/plain": [
       "| 10      | 1.39s        | 148481            | 372.257               | 12.5        |"
      ]
     },
     "metadata": {
      "tags": []
     },
     "output_type": "display_data"
    },
    {
     "data": {
      "text/html": [
       "<pre>| 25      | 3.34s        | 99285.6           | 305.452               | 12.5        |</pre>"
      ],
      "text/plain": [
       "| 25      | 3.34s        | 99285.6           | 305.452               | 12.5        |"
      ]
     },
     "metadata": {
      "tags": []
     },
     "output_type": "display_data"
    },
    {
     "data": {
      "text/html": [
       "<pre>+---------+--------------+-------------------+-----------------------+-------------+</pre>"
      ],
      "text/plain": [
       "+---------+--------------+-------------------+-----------------------+-------------+"
      ]
     },
     "metadata": {
      "tags": []
     },
     "output_type": "display_data"
    },
    {
     "data": {
      "text/html": [
       "<pre>Optimization Complete: Maximum number of passes through the data reached.</pre>"
      ],
      "text/plain": [
       "Optimization Complete: Maximum number of passes through the data reached."
      ]
     },
     "metadata": {
      "tags": []
     },
     "output_type": "display_data"
    },
    {
     "data": {
      "text/html": [
       "<pre>Computing final objective value and training RMSE.</pre>"
      ],
      "text/plain": [
       "Computing final objective value and training RMSE."
      ]
     },
     "metadata": {
      "tags": []
     },
     "output_type": "display_data"
    },
    {
     "data": {
      "text/html": [
       "<pre>       Final objective value: 108673</pre>"
      ],
      "text/plain": [
       "       Final objective value: 108673"
      ]
     },
     "metadata": {
      "tags": []
     },
     "output_type": "display_data"
    },
    {
     "data": {
      "text/html": [
       "<pre>       Final training RMSE: 319.12</pre>"
      ],
      "text/plain": [
       "       Final training RMSE: 319.12"
      ]
     },
     "metadata": {
      "tags": []
     },
     "output_type": "display_data"
    }
   ],
   "source": [
    "training_data, validation_data = tc.recommender.util.random_split_by_user(actions,'CustomerKey',\n",
    "                                                                          'ProductSubcategoryAlternateKey')\n",
    "\n",
    "model = tc.recommender.create(training_data, 'CustomerKey', 'ProductSubcategoryAlternateKey',\n",
    "                              target= 'PurchaseCount')"
   ]
  },
  {
   "cell_type": "code",
   "execution_count": null,
   "metadata": {
    "colab": {},
    "colab_type": "code",
    "id": "qSFO2n0Ofjnl"
   },
   "outputs": [],
   "source": [
    "def recommendProducts(s):\n",
    "  name = df_custKeyName.loc[df_custKeyName['CustomerKey'] == s, 'CustomerName'].iloc[0]\n",
    "  print(s,' Customer Name: ', name, ', Recommendations:\\n')\n",
    "  results = model.recommend(users=[s], k=7)\n",
    "  for i in results['ProductSubcategoryAlternateKey']:\n",
    "    print(df_subCatNames.loc[df_subCatNames.ProductSubcategoryAlternateKey == i,\n",
    "                             'EnglishProductSubcategoryName'].values[0])"
   ]
  },
  {
   "cell_type": "markdown",
   "metadata": {
    "colab_type": "text",
    "id": "_UtKHWLT8g7o"
   },
   "source": [
    "##### <a id='221'> 2.2.1. Sample Recommendations </a>"
   ]
  },
  {
   "cell_type": "code",
   "execution_count": null,
   "metadata": {
    "colab": {
     "base_uri": "https://localhost:8080/",
     "height": 177
    },
    "colab_type": "code",
    "id": "7kysKAPrfjkW",
    "outputId": "7d84e3e8-05d0-4c73-ef7b-16f6bf908e0f"
   },
   "outputs": [
    {
     "name": "stdout",
     "output_type": "stream",
     "text": [
      "11449  Customer Name:  Alvin E Hu , Recommendations:\n",
      "\n",
      "Jerseys\n",
      "Hydration Packs\n",
      "Helmets\n",
      "Fenders\n",
      "Bike Stands\n",
      "Bottles and Cages\n",
      "Bike Racks\n"
     ]
    }
   ],
   "source": [
    "recommendProducts(11449) # recommendProducts(CustomerID)"
   ]
  },
  {
   "cell_type": "code",
   "execution_count": null,
   "metadata": {
    "colab": {
     "base_uri": "https://localhost:8080/",
     "height": 177
    },
    "colab_type": "code",
    "id": "q9kye09PhjQQ",
    "outputId": "f9947dfa-43fd-4f1b-afa0-489427d74f6b"
   },
   "outputs": [
    {
     "name": "stdout",
     "output_type": "stream",
     "text": [
      "28203  Customer Name:  Victor I Gomez , Recommendations:\n",
      "\n",
      "Road Bikes\n",
      "Socks\n",
      "Gloves\n",
      "Bottles and Cages\n",
      "Jerseys\n",
      "Mountain Bikes\n",
      "Caps\n"
     ]
    }
   ],
   "source": [
    "recommendProducts(28203)"
   ]
  },
  {
   "cell_type": "markdown",
   "metadata": {
    "colab_type": "text",
    "id": "cxB_qtbFBcpD"
   },
   "source": [
    "---\n",
    "#### <a id='222'> 2.2.2. Model Evaluation </a>"
   ]
  },
  {
   "cell_type": "code",
   "execution_count": null,
   "metadata": {
    "colab": {
     "base_uri": "https://localhost:8080/",
     "height": 1000
    },
    "colab_type": "code",
    "id": "bPvzFIRkpuUs",
    "outputId": "892eb302-8fd3-4d36-8f13-e7e8642702f0"
   },
   "outputs": [
    {
     "name": "stdout",
     "output_type": "stream",
     "text": [
      "\n",
      "Precision and recall summary statistics by cutoff\n",
      "+--------+---------------------+---------------------+\n",
      "| cutoff |    mean_precision   |     mean_recall     |\n",
      "+--------+---------------------+---------------------+\n",
      "|   1    | 0.17724867724867724 | 0.15057319223985902 |\n",
      "|   2    | 0.16931216931216936 | 0.28990299823633164 |\n",
      "|   3    | 0.13315696649029984 |  0.3353174603174603 |\n",
      "|   4    | 0.11706349206349206 | 0.38977072310405636 |\n",
      "|   5    |  0.1068783068783069 | 0.45458553791887113 |\n",
      "|   6    | 0.09788359788359788 |  0.5008818342151675 |\n",
      "|   7    | 0.09372637944066514 |  0.5553350970017638 |\n",
      "|   8    | 0.09027777777777776 |  0.6086860670194004 |\n",
      "|   9    | 0.08818342151675487 |  0.667768959435626  |\n",
      "|   10   | 0.08736037624926513 |  0.7277336860670196 |\n",
      "+--------+---------------------+---------------------+\n",
      "[10 rows x 3 columns]\n",
      "\n",
      "\n",
      "Overall RMSE: 502.3140425260383\n",
      "\n",
      "Per User RMSE (best)\n",
      "+-------------+--------------------+-------+\n",
      "| CustomerKey |        rmse        | count |\n",
      "+-------------+--------------------+-------+\n",
      "|    13461    | 0.9669132660674222 |   1   |\n",
      "+-------------+--------------------+-------+\n",
      "[1 rows x 3 columns]\n",
      "\n",
      "\n",
      "Per User RMSE (worst)\n",
      "+-------------+-------------------+-------+\n",
      "| CustomerKey |        rmse       | count |\n",
      "+-------------+-------------------+-------+\n",
      "|    13873    | 2061.074816985016 |   1   |\n",
      "+-------------+-------------------+-------+\n",
      "[1 rows x 3 columns]\n",
      "\n",
      "\n",
      "Per Item RMSE (best)\n",
      "+--------------------------------+-------------------+-------+\n",
      "| ProductSubcategoryAlternateKey |        rmse       | count |\n",
      "+--------------------------------+-------------------+-------+\n",
      "|               21               | 294.4105949822939 |   30  |\n",
      "+--------------------------------+-------------------+-------+\n",
      "[1 rows x 3 columns]\n",
      "\n",
      "\n",
      "Per Item RMSE (worst)\n",
      "+--------------------------------+------------------+-------+\n",
      "| ProductSubcategoryAlternateKey |       rmse       | count |\n",
      "+--------------------------------+------------------+-------+\n",
      "|               25               | 968.214043746902 |   4   |\n",
      "+--------------------------------+------------------+-------+\n",
      "[1 rows x 3 columns]\n",
      "\n"
     ]
    },
    {
     "data": {
      "text/plain": [
       "{'precision_recall_by_user': Columns:\n",
       " \tCustomerKey\tint\n",
       " \tcutoff\tint\n",
       " \tprecision\tfloat\n",
       " \trecall\tfloat\n",
       " \tcount\tint\n",
       " \n",
       " Rows: 6804\n",
       " \n",
       " Data:\n",
       " +-------------+--------+---------------------+--------+-------+\n",
       " | CustomerKey | cutoff |      precision      | recall | count |\n",
       " +-------------+--------+---------------------+--------+-------+\n",
       " |    27671    |   1    |         0.0         |  0.0   |   1   |\n",
       " |    27671    |   2    |         0.0         |  0.0   |   1   |\n",
       " |    27671    |   3    |         0.0         |  0.0   |   1   |\n",
       " |    27671    |   4    |         0.25        |  1.0   |   1   |\n",
       " |    27671    |   5    |         0.2         |  1.0   |   1   |\n",
       " |    27671    |   6    | 0.16666666666666666 |  1.0   |   1   |\n",
       " |    27671    |   7    | 0.14285714285714285 |  1.0   |   1   |\n",
       " |    27671    |   8    |        0.125        |  1.0   |   1   |\n",
       " |    27671    |   9    |  0.1111111111111111 |  1.0   |   1   |\n",
       " |    27671    |   10   |         0.1         |  1.0   |   1   |\n",
       " +-------------+--------+---------------------+--------+-------+\n",
       " [6804 rows x 5 columns]\n",
       " Note: Only the head of the SFrame is printed.\n",
       " You can use print_rows(num_rows=m, num_columns=n) to print more rows and columns.,\n",
       " 'precision_recall_overall': Columns:\n",
       " \tcutoff\tint\n",
       " \tprecision\tfloat\n",
       " \trecall\tfloat\n",
       " \n",
       " Rows: 18\n",
       " \n",
       " Data:\n",
       " +--------+---------------------+---------------------+\n",
       " | cutoff |      precision      |        recall       |\n",
       " +--------+---------------------+---------------------+\n",
       " |   1    | 0.17724867724867724 | 0.15057319223985902 |\n",
       " |   2    | 0.16931216931216936 | 0.28990299823633164 |\n",
       " |   3    | 0.13315696649029984 |  0.3353174603174603 |\n",
       " |   4    | 0.11706349206349206 | 0.38977072310405636 |\n",
       " |   5    |  0.1068783068783069 | 0.45458553791887113 |\n",
       " |   6    | 0.09788359788359788 |  0.5008818342151675 |\n",
       " |   7    | 0.09372637944066514 |  0.5553350970017638 |\n",
       " |   8    | 0.09027777777777776 |  0.6086860670194004 |\n",
       " |   9    | 0.08818342151675487 |  0.667768959435626  |\n",
       " |   10   | 0.08736037624926513 |  0.7277336860670196 |\n",
       " +--------+---------------------+---------------------+\n",
       " [18 rows x 3 columns]\n",
       " Note: Only the head of the SFrame is printed.\n",
       " You can use print_rows(num_rows=m, num_columns=n) to print more rows and columns.,\n",
       " 'rmse_by_item': Columns:\n",
       " \tProductSubcategoryAlternateKey\tint\n",
       " \trmse\tfloat\n",
       " \tcount\tint\n",
       " \n",
       " Rows: 17\n",
       " \n",
       " Data:\n",
       " +--------------------------------+--------------------+-------+\n",
       " | ProductSubcategoryAlternateKey |        rmse        | count |\n",
       " +--------------------------------+--------------------+-------+\n",
       " |               20               | 295.5801191362527  |   15  |\n",
       " |               22               | 538.8352358368588  |   10  |\n",
       " |               29               | 410.7970785884706  |   12  |\n",
       " |               19               | 636.2806770966451  |   22  |\n",
       " |               2                | 383.7638594715062  |   70  |\n",
       " |               23               | 533.7612696458054  |   1   |\n",
       " |               30               | 422.3611302897771  |   28  |\n",
       " |               3                |  507.233496153277  |   24  |\n",
       " |               1                | 437.09612004379636 |   41  |\n",
       " |               21               | 294.4105949822939  |   30  |\n",
       " +--------------------------------+--------------------+-------+\n",
       " [17 rows x 3 columns]\n",
       " Note: Only the head of the SFrame is printed.\n",
       " You can use print_rows(num_rows=m, num_columns=n) to print more rows and columns.,\n",
       " 'rmse_by_user': Columns:\n",
       " \tCustomerKey\tint\n",
       " \trmse\tfloat\n",
       " \tcount\tint\n",
       " \n",
       " Rows: 378\n",
       " \n",
       " Data:\n",
       " +-------------+--------------------+-------+\n",
       " | CustomerKey |        rmse        | count |\n",
       " +-------------+--------------------+-------+\n",
       " |    16580    | 295.25235144462926 |   2   |\n",
       " |    14446    | 387.7992248107148  |   1   |\n",
       " |    22985    | 254.90223600160607 |   1   |\n",
       " |    14530    | 61.924442010040366 |   1   |\n",
       " |    14279    | 447.62991457913324 |   3   |\n",
       " |    25198    | 262.84948341358177 |   1   |\n",
       " |    17911    | 223.4082438517762  |   1   |\n",
       " |    27132    | 13.509490771179117 |   1   |\n",
       " |    17438    | 87.09561948287956  |   1   |\n",
       " |    25952    | 586.8748259972381  |   1   |\n",
       " +-------------+--------------------+-------+\n",
       " [378 rows x 3 columns]\n",
       " Note: Only the head of the SFrame is printed.\n",
       " You can use print_rows(num_rows=m, num_columns=n) to print more rows and columns.,\n",
       " 'rmse_overall': 502.3140425260383}"
      ]
     },
     "execution_count": 149,
     "metadata": {
      "tags": []
     },
     "output_type": "execute_result"
    }
   ],
   "source": [
    "eval = model.evaluate(validation_data)\n",
    "eval"
   ]
  },
  {
   "cell_type": "code",
   "execution_count": null,
   "metadata": {
    "colab": {},
    "colab_type": "code",
    "id": "fyqOvSQP2C5f"
   },
   "outputs": [],
   "source": []
  },
  {
   "cell_type": "markdown",
   "metadata": {
    "colab_type": "text",
    "id": "iqig5-JADSe6"
   },
   "source": [
    "---\n",
    "# <a id='3'> 3. Conclusion </a>\n",
    "\n",
    "- Model built on Scaled/Normalized PurchaseCount has RMSE: 0.158\n",
    "\n",
    "- Model built on Non-Scaled PurchaseCount has overall RMSE: 488.01 \n",
    "\n",
    "- Since the model built on Scaled/Normalized PurchaseCount has very good RMSE value, we choose it for our Recommendation Engine"
   ]
  }
 ],
 "metadata": {
  "colab": {
   "collapsed_sections": [
    "9jnV0D3sb-0-"
   ],
   "name": "AdventureWorks_RecommendationEngine.ipynb",
   "provenance": []
  },
  "kernelspec": {
   "display_name": "Python 3",
   "language": "python",
   "name": "python3"
  },
  "language_info": {
   "codemirror_mode": {
    "name": "ipython",
    "version": 3
   },
   "file_extension": ".py",
   "mimetype": "text/x-python",
   "name": "python",
   "nbconvert_exporter": "python",
   "pygments_lexer": "ipython3",
   "version": "3.7.7"
  },
  "nbTranslate": {
   "displayLangs": [
    "*"
   ],
   "hotkey": "alt-t",
   "langInMainMenu": true,
   "sourceLang": "en",
   "targetLang": "fr",
   "useGoogleTranslate": true
  }
 },
 "nbformat": 4,
 "nbformat_minor": 1
}
